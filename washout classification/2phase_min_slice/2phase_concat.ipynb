{
 "cells": [
  {
   "cell_type": "code",
   "execution_count": 1,
   "metadata": {},
   "outputs": [],
   "source": [
    "import os\n"
   ]
  },
  {
   "cell_type": "code",
   "execution_count": 3,
   "metadata": {},
   "outputs": [],
   "source": [
    "import numpy as np\n",
    "from matplotlib import pyplot as plt\n",
    "import nibabel as nib\n",
    "from PIL import Image\n",
    "from matplotlib import pyplot as plt\n",
    "import torch\n",
    "from torch.utils.data import Dataset, DataLoader\n",
    "from sklearn.model_selection import train_test_split"
   ]
  },
  {
   "cell_type": "code",
   "execution_count": 4,
   "metadata": {},
   "outputs": [],
   "source": [
    "#condition_match_folder불러오기\n",
    "match_folder=np.loadtxt('/home/sumins/workspace/washout classification/base_data/condition_match_folder.txt',dtype=str)\n",
    "match_folder=match_folder.tolist()"
   ]
  },
  {
   "cell_type": "code",
   "execution_count": 5,
   "metadata": {},
   "outputs": [],
   "source": [
    "washout_slice=[]\n",
    "washout_label=[]\n",
    "total_slice=0\n",
    "data_path='/disk1/HCC2'\n",
    "for i in match_folder:    \n",
    "    washout_dir = os.path.join(data_path, 'Anonymize_'+i,'washout_'+i+'.txt') \n",
    "    washout=[]\n",
    "    with open(washout_dir,'r') as f:\n",
    "        lines=f.readlines()\n",
    "        slice=[]\n",
    "        label=[]\n",
    "        for line in lines:\n",
    "            line=line.strip()\n",
    "            washout.append(line)\n",
    "        for i in washout:\n",
    "            k=i.split('\\t')\n",
    "            total_slice+=1\n",
    "            k[1]=float(k[1])\n",
    "            k[1]=int(k[1])\n",
    "            slice.append(int(k[0]))\n",
    "            label.append(k[1])\n",
    "    washout_slice.append(slice) \n",
    "    washout_label.append(label)   "
   ]
  },
  {
   "cell_type": "code",
   "execution_count": 6,
   "metadata": {},
   "outputs": [
    {
     "name": "stdout",
     "output_type": "stream",
     "text": [
      "165\n",
      "165\n"
     ]
    }
   ],
   "source": [
    "print(len(washout_slice))\n",
    "print(len(washout_label))"
   ]
  },
  {
   "cell_type": "code",
   "execution_count": 7,
   "metadata": {},
   "outputs": [
    {
     "name": "stdout",
     "output_type": "stream",
     "text": [
      "True:  1379\n",
      "False:  482\n",
      "Total slice:  1861\n"
     ]
    }
   ],
   "source": [
    "zero=0\n",
    "one=0\n",
    "for i in washout_label:\n",
    "    for j in i:\n",
    "        if j==0:\n",
    "            zero+=1\n",
    "        elif j==1:\n",
    "            one+=1\n",
    "print(\"True: \", one)\n",
    "print(\"False: \", zero)\n",
    "print(\"Total slice: \",total_slice)"
   ]
  },
  {
   "cell_type": "code",
   "execution_count": 8,
   "metadata": {},
   "outputs": [],
   "source": [
    "import ast\n",
    "\n",
    "path1='/home/sumins/workspace/washout classification/min_slice/arterial.txt'\n",
    "\n",
    "path4='/home/sumins/workspace/washout classification/min_slice/portal.txt'\n",
    "\n",
    "arterial=[]\n",
    "portal=[]\n",
    "\n",
    "with open (path1,'r') as f:\n",
    "    lines=f.readlines()\n",
    "    for line in lines:\n",
    "        line=line.strip()\n",
    "        arterial.append(ast.literal_eval(line))\n",
    "\n",
    "with open (path4,'r') as f:\n",
    "    lines=f.readlines()\n",
    "    for line in lines:\n",
    "        line=line.strip()\n",
    "        portal.append(ast.literal_eval(line))"
   ]
  },
  {
   "cell_type": "code",
   "execution_count": 12,
   "metadata": {},
   "outputs": [],
   "source": [
    "Train_washout_slice=washout_slice[:130]\n",
    "Test_washout_slice=washout_slice[130:]\n",
    "Train_washout_label=washout_label[:130]\n",
    "Test_washout_label=washout_label[130:]"
   ]
  },
  {
   "cell_type": "code",
   "execution_count": 13,
   "metadata": {},
   "outputs": [
    {
     "name": "stdout",
     "output_type": "stream",
     "text": [
      "Train\n",
      "True:  1108\n",
      "False:  373\n",
      "Total slice:  1481\n"
     ]
    }
   ],
   "source": [
    "zero=0\n",
    "one=0\n",
    "for i in Train_washout_label:\n",
    "    for j in i:\n",
    "        if j==0:\n",
    "            zero+=1\n",
    "        elif j==1:\n",
    "            one+=1\n",
    "print(\"Train\")\n",
    "print(\"True: \", one)\n",
    "print(\"False: \", zero)\n",
    "print(\"Total slice: \",one+zero)"
   ]
  },
  {
   "cell_type": "code",
   "execution_count": 14,
   "metadata": {},
   "outputs": [
    {
     "name": "stdout",
     "output_type": "stream",
     "text": [
      "Test\n",
      "True:  271\n",
      "False:  109\n",
      "Total slice:  380\n"
     ]
    }
   ],
   "source": [
    "zero=0\n",
    "one=0\n",
    "for i in Test_washout_label:\n",
    "    for j in i:\n",
    "        if j==0:\n",
    "            zero+=1\n",
    "        elif j==1:\n",
    "            one+=1\n",
    "print(\"Test\")\n",
    "print(\"True: \", one)\n",
    "print(\"False: \", zero)\n",
    "print(\"Total slice: \",one+zero)"
   ]
  },
  {
   "cell_type": "code",
   "execution_count": 15,
   "metadata": {},
   "outputs": [
    {
     "name": "stdout",
     "output_type": "stream",
     "text": [
      "0 done\n",
      "1 done\n",
      "2 done\n",
      "3 done\n",
      "4 done\n",
      "5 done\n",
      "6 done\n",
      "7 done\n",
      "8 done\n",
      "9 done\n",
      "10 done\n",
      "11 done\n",
      "12 done\n",
      "13 done\n",
      "14 done\n",
      "15 done\n",
      "16 done\n",
      "17 done\n",
      "18 done\n",
      "19 done\n",
      "20 done\n",
      "21 done\n",
      "22 done\n",
      "23 done\n",
      "24 done\n",
      "25 done\n",
      "26 done\n",
      "27 done\n",
      "28 done\n",
      "29 done\n",
      "30 done\n",
      "31 done\n",
      "32 done\n",
      "33 done\n",
      "34 done\n",
      "35 done\n",
      "36 done\n",
      "37 done\n",
      "38 done\n",
      "39 done\n",
      "40 done\n",
      "41 done\n",
      "42 done\n",
      "43 done\n",
      "44 done\n",
      "45 done\n",
      "46 done\n",
      "47 done\n",
      "48 done\n",
      "49 done\n",
      "50 done\n",
      "51 done\n",
      "52 done\n",
      "53 done\n",
      "54 done\n",
      "55 done\n",
      "56 done\n",
      "57 done\n",
      "58 done\n",
      "59 done\n",
      "60 done\n",
      "61 done\n",
      "62 done\n",
      "63 done\n",
      "64 done\n",
      "65 done\n",
      "66 done\n",
      "67 done\n",
      "68 done\n",
      "69 done\n",
      "70 done\n",
      "71 done\n",
      "72 done\n",
      "73 done\n",
      "74 done\n",
      "75 done\n",
      "76 done\n",
      "77 done\n",
      "78 done\n",
      "79 done\n",
      "80 done\n",
      "81 done\n",
      "82 done\n",
      "83 done\n",
      "84 done\n",
      "85 done\n",
      "86 done\n",
      "87 done\n",
      "88 done\n",
      "89 done\n",
      "90 done\n",
      "91 done\n",
      "92 done\n",
      "93 done\n",
      "94 done\n",
      "95 done\n",
      "96 done\n",
      "97 done\n",
      "98 done\n",
      "99 done\n",
      "100 done\n",
      "101 done\n",
      "102 done\n",
      "103 done\n",
      "104 done\n",
      "105 done\n",
      "106 done\n",
      "107 done\n",
      "108 done\n",
      "109 done\n",
      "110 done\n",
      "111 done\n",
      "112 done\n",
      "113 done\n",
      "114 done\n",
      "115 done\n",
      "116 done\n",
      "117 done\n",
      "118 done\n",
      "119 done\n",
      "120 done\n",
      "121 done\n",
      "122 done\n",
      "123 done\n",
      "124 done\n",
      "125 done\n",
      "126 done\n",
      "127 done\n",
      "128 done\n",
      "129 done\n"
     ]
    }
   ],
   "source": [
    "\n",
    "all_phase=[]\n",
    "LABEL=[]\n",
    "for i in range(len(Train_washout_label)):\n",
    "    folder_name=match_folder[i]\n",
    "    a_path=os.path.join(data_path, 'Anonymize_'+folder_name,'A_Anonymize_'+folder_name+'.nii') \n",
    "    a_data_all=nib.load(a_path).get_fdata()\n",
    "    p_path=os.path.join(data_path, 'Anonymize_'+folder_name,'P_Anonymize_'+folder_name+'.nii') \n",
    "    p_data_all=nib.load(p_path).get_fdata()\n",
    "    \n",
    "    for k,j in enumerate(Train_washout_slice[i]):\n",
    "        if j not in portal[i]:\n",
    "            continue\n",
    "        index=portal[i].index(j)\n",
    "    \n",
    "        a=a_data_all[:,:,arterial[i][index]]\n",
    "        p=p_data_all[:,:,portal[i][index]]\n",
    "        DATASET=np.stack([a,p],axis=-1)\n",
    "        all_phase.append(DATASET)\n",
    "\n",
    "        LABEL.append(Train_washout_label[i][k])\n",
    "    print(i, \"done\")\n",
    "        "
   ]
  },
  {
   "cell_type": "code",
   "execution_count": 17,
   "metadata": {},
   "outputs": [
    {
     "name": "stdout",
     "output_type": "stream",
     "text": [
      "Before: 1481\n",
      "After:  1422\n"
     ]
    }
   ],
   "source": [
    "print(\"Before: 1481\")\n",
    "print(\"After: \", len(all_phase))"
   ]
  },
  {
   "cell_type": "code",
   "execution_count": 18,
   "metadata": {},
   "outputs": [],
   "source": [
    "k=np.array(all_phase)\n",
    "data=nib.Nifti1Image(k,None)\n",
    "nib.save(data,'/home/sumins/workspace/washout classification/2phase_slice/channel4_train.nii')"
   ]
  },
  {
   "cell_type": "code",
   "execution_count": 19,
   "metadata": {},
   "outputs": [],
   "source": [
    "np.savetxt(\"/home/sumins/workspace/washout classification/2phase_slice/label_train.txt\",LABEL,fmt='%d')"
   ]
  },
  {
   "cell_type": "code",
   "execution_count": 20,
   "metadata": {},
   "outputs": [
    {
     "name": "stdout",
     "output_type": "stream",
     "text": [
      "130 done\n",
      "131 done\n",
      "132 done\n",
      "133 done\n",
      "134 done\n",
      "135 done\n",
      "136 done\n",
      "137 done\n",
      "138 done\n",
      "139 done\n",
      "140 done\n",
      "141 done\n",
      "142 done\n",
      "143 done\n",
      "144 done\n",
      "145 done\n",
      "146 done\n",
      "147 done\n",
      "148 done\n",
      "149 done\n",
      "150 done\n",
      "151 done\n",
      "152 done\n",
      "153 done\n",
      "154 done\n",
      "155 done\n",
      "156 done\n",
      "157 done\n",
      "158 done\n",
      "159 done\n",
      "160 done\n",
      "161 done\n",
      "162 done\n",
      "163 done\n",
      "164 done\n"
     ]
    }
   ],
   "source": [
    "\n",
    "LABELt=[]\n",
    "all_phaset=[]\n",
    "for i in range(len(Test_washout_label)):\n",
    "    total_num=i+130\n",
    "    folder_name=match_folder[total_num]\n",
    "    a_path=os.path.join(data_path, 'Anonymize_'+folder_name,'A_Anonymize_'+folder_name+'.nii') \n",
    "    a_data_all=nib.load(a_path).get_fdata()\n",
    "    p_path=os.path.join(data_path, 'Anonymize_'+folder_name,'P_Anonymize_'+folder_name+'.nii') \n",
    "    p_data_all=nib.load(p_path).get_fdata()\n",
    "\n",
    "    \n",
    "    for k,j in enumerate(Test_washout_slice[i]):\n",
    "        if j not in portal[total_num]:\n",
    "            continue\n",
    "        index=portal[total_num].index(j)\n",
    "        \n",
    "        a=a_data_all[:,:,arterial[total_num][index]]\n",
    "        p=p_data_all[:,:,portal[total_num][index]]\n",
    "        DATASETt=np.stack([a,p],axis=-1)\n",
    "        all_phaset.append(DATASETt)        \n",
    "\n",
    "        LABELt.append(Test_washout_label[i][k])\n",
    "    print(total_num, \"done\")\n",
    "        "
   ]
  },
  {
   "cell_type": "code",
   "execution_count": 23,
   "metadata": {},
   "outputs": [
    {
     "name": "stdout",
     "output_type": "stream",
     "text": [
      "Before: 380\n",
      "After:  363\n"
     ]
    }
   ],
   "source": [
    "print(\"Before: 380\")\n",
    "print(\"After: \", len(all_phaset))"
   ]
  },
  {
   "cell_type": "code",
   "execution_count": 24,
   "metadata": {},
   "outputs": [],
   "source": [
    "k2=np.array(all_phaset)\n"
   ]
  },
  {
   "cell_type": "code",
   "execution_count": 26,
   "metadata": {},
   "outputs": [],
   "source": [
    "datat=nib.Nifti1Image(k2,None)\n",
    "nib.save(datat,'/home/sumins/workspace/washout classification/2phase_slice/channel4_test.nii')"
   ]
  },
  {
   "cell_type": "code",
   "execution_count": 27,
   "metadata": {},
   "outputs": [],
   "source": [
    "np.savetxt(\"/home/sumins/workspace/washout classification/2phase_slice/label_test.txt\",LABELt,fmt='%d')"
   ]
  }
 ],
 "metadata": {
  "kernelspec": {
   "display_name": "Python 3.6.9 64-bit",
   "language": "python",
   "name": "python3"
  },
  "language_info": {
   "codemirror_mode": {
    "name": "ipython",
    "version": 3
   },
   "file_extension": ".py",
   "mimetype": "text/x-python",
   "name": "python",
   "nbconvert_exporter": "python",
   "pygments_lexer": "ipython3",
   "version": "3.6.9"
  },
  "orig_nbformat": 4,
  "vscode": {
   "interpreter": {
    "hash": "31f2aee4e71d21fbe5cf8b01ff0e069b9275f58929596ceb00d14d90e3e16cd6"
   }
  }
 },
 "nbformat": 4,
 "nbformat_minor": 2
}
