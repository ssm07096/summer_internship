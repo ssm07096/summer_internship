{
 "cells": [
  {
   "cell_type": "code",
   "execution_count": null,
   "metadata": {},
   "outputs": [],
   "source": [
    "import os\n",
    "os.environ[\"CUDA_DEVICE_ORDER\"]=\"PCI_BUS_ID\"  \n",
    "os.environ[\"CUDA_VISIBLE_DEVICES\"]=\"7\""
   ]
  },
  {
   "cell_type": "code",
   "execution_count": 2,
   "metadata": {},
   "outputs": [],
   "source": [
    "import numpy as np\n",
    "from matplotlib import pyplot as plt\n",
    "import nibabel as nib\n",
    "from PIL import Image\n",
    "from matplotlib import pyplot as plt\n",
    "import torch\n",
    "from torch.utils.data import Dataset, DataLoader\n",
    "from sklearn.model_selection import train_test_split\n",
    "from torch import nn\n",
    "import torchsummary\n",
    "from torchvision import transforms\n",
    "import time\n",
    "from sklearn.metrics import classification_report"
   ]
  },
  {
   "cell_type": "code",
   "execution_count": 3,
   "metadata": {},
   "outputs": [],
   "source": [
    "label_data=np.loadtxt('/home/sumins/workspace/washout classification/equal_slice/label_train.txt',dtype=int)\n",
    "label_data=label_data.tolist()\n",
    "label_datat=np.loadtxt('/home/sumins/workspace/washout classification/equal_slice/label_test.txt',dtype=int)\n",
    "label_datat=label_datat.tolist()"
   ]
  },
  {
   "cell_type": "code",
   "execution_count": 4,
   "metadata": {},
   "outputs": [],
   "source": [
    "data_path='/home/sumins/workspace/washout classification/equal_slice/channel4_train.nii'\n",
    "channel4=[]\n",
    "total=nib.load(data_path).get_fdata()\n",
    "totalslice=total.shape[0]  \n",
    "\n",
    "for i in range(0,totalslice):\n",
    "    channel4.append(total[i,:,:,:])\n",
    "\n",
    "\n",
    "data_patht='/home/sumins/workspace/washout classification/equal_slice/channel4_test.nii'\n",
    "channel4t=[]\n",
    "totalt=nib.load(data_patht).get_fdata()\n",
    "totalslicet=totalt.shape[0]  \n",
    "\n",
    "for i in range(0,totalslicet):\n",
    "    channel4t.append(totalt[i,:,:,:])"
   ]
  },
  {
   "cell_type": "code",
   "execution_count": 5,
   "metadata": {},
   "outputs": [
    {
     "name": "stdout",
     "output_type": "stream",
     "text": [
      "1347\n",
      "293\n"
     ]
    }
   ],
   "source": [
    "print(len(channel4))\n",
    "print(len(channel4t))"
   ]
  },
  {
   "cell_type": "code",
   "execution_count": 6,
   "metadata": {},
   "outputs": [],
   "source": [
    "WINDOW_MAX = 200\n",
    "WINDOW_MIN = 0\n",
    "GLOBAL_PIXEL_MEAN = 0.1\n",
    "\n",
    "class CustomDataset(Dataset): \n",
    "  def __init__(self,volume_list,all_labels,transforms=None):\n",
    "    self.volume_list=volume_list\n",
    "    self.all_labels=all_labels\n",
    "    self.length=len(all_labels)\n",
    "    self.transforms=transforms\n",
    "\n",
    "\n",
    "  def __len__(self):\n",
    "    return self.length\n",
    "\n",
    "\n",
    "  def __getitem__(self, idx):\n",
    "    npy=self.volume_list[idx]\n",
    "\n",
    "    npy[npy > WINDOW_MAX] = WINDOW_MAX\n",
    "    npy[npy < WINDOW_MIN] = WINDOW_MIN\n",
    "    \n",
    "    npy = (npy - WINDOW_MIN) / (WINDOW_MAX - WINDOW_MIN)\n",
    "    npy -= GLOBAL_PIXEL_MEAN\n",
    "    \n",
    "    npy=npy.astype(dtype='float32')\n",
    "    if self.transforms is not None:\n",
    "      npy=self.transforms(npy)\n",
    "    \n",
    "    return{'npy':npy,'label':self.all_labels[idx]}"
   ]
  },
  {
   "cell_type": "code",
   "execution_count": 7,
   "metadata": {},
   "outputs": [],
   "source": [
    "transforms_train = transforms.Compose([transforms.ToTensor()\n",
    "                                       ])\n",
    "transforms_test = transforms.Compose([transforms.ToTensor()\n",
    "                                       ])\n"
   ]
  },
  {
   "cell_type": "code",
   "execution_count": 44,
   "metadata": {},
   "outputs": [
    {
     "name": "stdout",
     "output_type": "stream",
     "text": [
      "----------------------------------------------------------------\n",
      "        Layer (type)               Output Shape         Param #\n",
      "================================================================\n",
      "            Conv2d-1          [4, 16, 512, 512]             592\n",
      "       BatchNorm2d-2          [4, 16, 512, 512]              32\n",
      "         LeakyReLU-3          [4, 16, 512, 512]               0\n",
      "         MaxPool2d-4          [4, 16, 256, 256]               0\n",
      "            Conv2d-5          [4, 32, 256, 256]           4,640\n",
      "       BatchNorm2d-6          [4, 32, 256, 256]              64\n",
      "         LeakyReLU-7          [4, 32, 256, 256]               0\n",
      "         MaxPool2d-8          [4, 32, 128, 128]               0\n",
      "            Conv2d-9          [4, 64, 128, 128]          18,496\n",
      "      BatchNorm2d-10          [4, 64, 128, 128]             128\n",
      "        LeakyReLU-11          [4, 64, 128, 128]               0\n",
      "        MaxPool2d-12            [4, 64, 64, 64]               0\n",
      "           Conv2d-13           [4, 128, 64, 64]          73,856\n",
      "      BatchNorm2d-14           [4, 128, 64, 64]             256\n",
      "        LeakyReLU-15           [4, 128, 64, 64]               0\n",
      "        MaxPool2d-16           [4, 128, 32, 32]               0\n",
      "           Conv2d-17           [4, 256, 32, 32]         295,168\n",
      "      BatchNorm2d-18           [4, 256, 32, 32]             512\n",
      "        LeakyReLU-19           [4, 256, 32, 32]               0\n",
      "        MaxPool2d-20           [4, 256, 16, 16]               0\n",
      "           Conv2d-21             [4, 2, 16, 16]           4,610\n",
      "      BatchNorm2d-22             [4, 2, 16, 16]               4\n",
      "        LeakyReLU-23             [4, 2, 16, 16]               0\n",
      "AdaptiveAvgPool2d-24               [4, 2, 1, 1]               0\n",
      "================================================================\n",
      "Total params: 398,358\n",
      "Trainable params: 398,358\n",
      "Non-trainable params: 0\n",
      "----------------------------------------------------------------\n",
      "Input size (MB): 16.00\n",
      "Forward/backward pass size (MB): 806.05\n",
      "Params size (MB): 1.52\n",
      "Estimated Total Size (MB): 823.57\n",
      "----------------------------------------------------------------\n"
     ]
    }
   ],
   "source": [
    "class CustomConvNet(nn.Module):\n",
    "    def __init__(self):\n",
    "        super(CustomConvNet, self).__init__() #상속받은 class에 접근하기 위함\n",
    "\n",
    "        self.layer1 = self.conv_module(4, 16) #흑백사진은 inp\n",
    "        self.layer2 = self.conv_module(16, 32)\n",
    "        self.layer3 = self.conv_module(32, 64)\n",
    "        self.layer4 = self.conv_module(64, 128)\n",
    "        self.layer5 = self.conv_module(128, 256)\n",
    "        self.gap = self.global_avg_pool(256, 2)\n",
    "\n",
    "    def forward(self, x):\n",
    "        out = self.layer1(x)\n",
    "        out = self.layer2(out)\n",
    "        out = self.layer3(out)\n",
    "        out = self.layer4(out)\n",
    "        out = self.layer5(out)\n",
    "        out = self.gap(out)\n",
    "        out = out.view(-1, 2)\n",
    "\n",
    "        return out\n",
    "\n",
    "    def conv_module(self, in_num, out_num):\n",
    "        return nn.Sequential(\n",
    "            nn.Conv2d(in_num, out_num, kernel_size=3, stride=1, padding=1),\n",
    "            nn.BatchNorm2d(out_num),\n",
    "            nn.LeakyReLU(),\n",
    "            nn.MaxPool2d(kernel_size=2, stride=2)\n",
    "            )\n",
    "\n",
    "    def global_avg_pool(self, in_num, out_num):\n",
    "        return nn.Sequential(\n",
    "            nn.Conv2d(in_num, out_num, kernel_size=3, stride=1, padding=1),\n",
    "            nn.BatchNorm2d(out_num),\n",
    "            nn.LeakyReLU(),\n",
    "            nn.AdaptiveAvgPool2d((1,1)))\n",
    "        \n",
    "model=CustomConvNet()\n",
    "torchsummary.summary(model.cuda(),input_size=(4,512,512),batch_size=4)"
   ]
  },
  {
   "cell_type": "code",
   "execution_count": 45,
   "metadata": {},
   "outputs": [],
   "source": [
    "hyper_param_epoch=200\n",
    "hyper_param_batch=8\n",
    "hyper_param_learning_rate=0.0001"
   ]
  },
  {
   "cell_type": "code",
   "execution_count": 46,
   "metadata": {},
   "outputs": [],
   "source": [
    "train_dataset=CustomDataset(volume_list=channel4, all_labels=label_data,transforms=transforms_train)\n",
    "train_loader = DataLoader(train_dataset, batch_size=hyper_param_batch, shuffle=True)\n",
    "test_dataset=CustomDataset(volume_list=channel4t, all_labels=label_datat,transforms=transforms_train)\n",
    "test_loader = DataLoader(test_dataset, batch_size=hyper_param_batch, shuffle=True)"
   ]
  },
  {
   "cell_type": "code",
   "execution_count": 47,
   "metadata": {},
   "outputs": [
    {
     "name": "stdout",
     "output_type": "stream",
     "text": [
      "cuda:0 / 1\n"
     ]
    }
   ],
   "source": [
    "device = torch.device('cuda:0' if torch.cuda.is_available() else 'cpu')\n",
    "print(device,\"/\" ,torch.cuda.device_count())\n",
    "\n",
    "custom_model=CustomConvNet().to(device)\n",
    "criterion = nn.CrossEntropyLoss()\n",
    "optimizer = torch.optim.Adam(custom_model.parameters(), lr=hyper_param_learning_rate)"
   ]
  },
  {
   "cell_type": "code",
   "execution_count": 48,
   "metadata": {},
   "outputs": [],
   "source": [
    "def validation_loss(model):\n",
    "    total_loss=0\n",
    "    for i_batch, item in enumerate(test_loader):\n",
    "        npys = item['npy'].to(device)\n",
    "        labels = item['label'].to(device)\n",
    " \n",
    "        outputs =model(npys)\n",
    "        loss = criterion(outputs, labels)\n",
    "\n",
    "        total_loss+=loss.item()\n",
    "    return total_loss/(i_batch+1)"
   ]
  },
  {
   "cell_type": "code",
   "execution_count": 49,
   "metadata": {},
   "outputs": [
    {
     "name": "stdout",
     "output_type": "stream",
     "text": [
      "Epoch [1/200],i_batch=169 ,Train_Loss: 0.5713,Valid_loss: 0.6613\n",
      "Time: 96.05845475196838sec\n",
      "Epoch [2/200],i_batch=169 ,Train_Loss: 0.7207,Valid_loss: 0.6556\n",
      "Time: 108.2528727054596sec\n",
      "Epoch [3/200],i_batch=169 ,Train_Loss: 0.8722,Valid_loss: 0.6426\n",
      "Time: 113.8655059337616sec\n",
      "Epoch [4/200],i_batch=169 ,Train_Loss: 0.5333,Valid_loss: 0.6507\n",
      "Time: 108.03474020957947sec\n",
      "Epoch [5/200],i_batch=169 ,Train_Loss: 0.6045,Valid_loss: 0.6515\n",
      "Time: 95.86937165260315sec\n",
      "Epoch [6/200],i_batch=169 ,Train_Loss: 0.5361,Valid_loss: 0.6488\n",
      "Time: 98.48801374435425sec\n",
      "Epoch [7/200],i_batch=169 ,Train_Loss: 0.6429,Valid_loss: 0.6425\n",
      "Time: 109.52362942695618sec\n",
      "Epoch [8/200],i_batch=169 ,Train_Loss: 0.5480,Valid_loss: 0.6467\n",
      "Time: 107.63015007972717sec\n",
      "Epoch [9/200],i_batch=169 ,Train_Loss: 0.5239,Valid_loss: 0.6516\n",
      "Time: 103.85477066040039sec\n",
      "Epoch [10/200],i_batch=169 ,Train_Loss: 0.3952,Valid_loss: 0.6590\n",
      "Time: 96.11368918418884sec\n",
      "Epoch [11/200],i_batch=169 ,Train_Loss: 0.5962,Valid_loss: 0.6376\n",
      "Time: 95.63979196548462sec\n",
      "Epoch [12/200],i_batch=169 ,Train_Loss: 0.4314,Valid_loss: 0.6471\n",
      "Time: 94.77800226211548sec\n",
      "Epoch [13/200],i_batch=169 ,Train_Loss: 0.5325,Valid_loss: 0.6369\n",
      "Time: 99.91851592063904sec\n",
      "Epoch [14/200],i_batch=169 ,Train_Loss: 0.5161,Valid_loss: 0.6412\n",
      "Time: 98.2547607421875sec\n",
      "Epoch [15/200],i_batch=169 ,Train_Loss: 0.3952,Valid_loss: 0.6577\n",
      "Time: 108.0229423046112sec\n",
      "Epoch [16/200],i_batch=169 ,Train_Loss: 0.3811,Valid_loss: 0.6234\n",
      "Time: 108.92089319229126sec\n",
      "Epoch [17/200],i_batch=169 ,Train_Loss: 0.5433,Valid_loss: 0.6361\n",
      "Time: 109.35039496421814sec\n",
      "Epoch [18/200],i_batch=169 ,Train_Loss: 0.3464,Valid_loss: 0.6263\n",
      "Time: 108.91210889816284sec\n",
      "Epoch [19/200],i_batch=169 ,Train_Loss: 0.4788,Valid_loss: 0.6183\n",
      "Time: 111.28776550292969sec\n",
      "Epoch [20/200],i_batch=169 ,Train_Loss: 0.3229,Valid_loss: 0.6233\n",
      "Time: 112.84375977516174sec\n",
      "Epoch [21/200],i_batch=169 ,Train_Loss: 0.4757,Valid_loss: 0.6372\n",
      "Time: 113.4186658859253sec\n",
      "Epoch [22/200],i_batch=169 ,Train_Loss: 0.3873,Valid_loss: 0.6442\n",
      "Time: 114.68481802940369sec\n",
      "Epoch [23/200],i_batch=169 ,Train_Loss: 0.4401,Valid_loss: 0.6404\n",
      "Time: 112.92630124092102sec\n",
      "Epoch [24/200],i_batch=169 ,Train_Loss: 0.4781,Valid_loss: 0.6373\n",
      "Time: 111.33024644851685sec\n",
      "Epoch [25/200],i_batch=169 ,Train_Loss: 0.4880,Valid_loss: 0.6346\n",
      "Time: 113.09355425834656sec\n",
      "Epoch [26/200],i_batch=169 ,Train_Loss: 0.4455,Valid_loss: 0.6339\n",
      "Time: 111.50178742408752sec\n",
      "Epoch [27/200],i_batch=169 ,Train_Loss: 0.4890,Valid_loss: 0.6543\n",
      "Time: 99.02990007400513sec\n",
      "Epoch [28/200],i_batch=169 ,Train_Loss: 0.2848,Valid_loss: 0.6420\n",
      "Time: 83.70040965080261sec\n",
      "Epoch [29/200],i_batch=169 ,Train_Loss: 0.4280,Valid_loss: 0.6213\n",
      "Time: 86.28316307067871sec\n",
      "Epoch [30/200],i_batch=169 ,Train_Loss: 0.4485,Valid_loss: 0.6453\n",
      "Time: 85.03297805786133sec\n",
      "Epoch [31/200],i_batch=169 ,Train_Loss: 0.4309,Valid_loss: 0.6358\n",
      "Time: 87.69338917732239sec\n",
      "Epoch [32/200],i_batch=169 ,Train_Loss: 0.2625,Valid_loss: 0.6321\n",
      "Time: 97.24779510498047sec\n",
      "Epoch [33/200],i_batch=169 ,Train_Loss: 0.4325,Valid_loss: 0.6477\n",
      "Time: 113.39170908927917sec\n",
      "Epoch [34/200],i_batch=169 ,Train_Loss: 0.4009,Valid_loss: 0.6498\n",
      "Time: 112.09548330307007sec\n",
      "Epoch [35/200],i_batch=169 ,Train_Loss: 0.3989,Valid_loss: 0.6611\n",
      "Time: 109.50993609428406sec\n",
      "Epoch [36/200],i_batch=169 ,Train_Loss: 0.4032,Valid_loss: 0.6396\n",
      "Time: 113.12311625480652sec\n",
      "Epoch [37/200],i_batch=169 ,Train_Loss: 0.2426,Valid_loss: 0.6413\n",
      "Time: 113.04644894599915sec\n",
      "Epoch [38/200],i_batch=169 ,Train_Loss: 0.3928,Valid_loss: 0.6338\n",
      "Time: 113.88076758384705sec\n",
      "Epoch [39/200],i_batch=169 ,Train_Loss: 0.4022,Valid_loss: 0.6606\n",
      "Time: 115.94918012619019sec\n",
      "Epoch [40/200],i_batch=169 ,Train_Loss: 0.3898,Valid_loss: 0.6424\n",
      "Time: 116.14325547218323sec\n",
      "Epoch [41/200],i_batch=169 ,Train_Loss: 0.3982,Valid_loss: 0.6627\n",
      "Time: 114.20606398582458sec\n",
      "Epoch [42/200],i_batch=169 ,Train_Loss: 0.2226,Valid_loss: 0.6469\n",
      "Time: 112.72572660446167sec\n",
      "Epoch [43/200],i_batch=169 ,Train_Loss: 0.3654,Valid_loss: 0.6415\n",
      "Time: 111.35627913475037sec\n",
      "Epoch [44/200],i_batch=169 ,Train_Loss: 0.3640,Valid_loss: 0.6471\n",
      "Time: 113.0659031867981sec\n",
      "Epoch [45/200],i_batch=169 ,Train_Loss: 0.3796,Valid_loss: 0.6550\n",
      "Time: 111.38873171806335sec\n",
      "Epoch [46/200],i_batch=169 ,Train_Loss: 0.3587,Valid_loss: 0.6434\n",
      "Time: 113.66961717605591sec\n",
      "Epoch [47/200],i_batch=169 ,Train_Loss: 0.3616,Valid_loss: 0.6359\n",
      "Time: 115.57200956344604sec\n",
      "Epoch [48/200],i_batch=169 ,Train_Loss: 0.2003,Valid_loss: 0.6466\n",
      "Time: 115.5092089176178sec\n",
      "Epoch [49/200],i_batch=169 ,Train_Loss: 0.2169,Valid_loss: 0.6453\n",
      "Time: 121.37566351890564sec\n",
      "Epoch [50/200],i_batch=169 ,Train_Loss: 0.3510,Valid_loss: 0.6539\n",
      "Time: 131.40284276008606sec\n",
      "Epoch [51/200],i_batch=169 ,Train_Loss: 0.1994,Valid_loss: 0.6795\n",
      "Time: 130.55074381828308sec\n",
      "Epoch [52/200],i_batch=169 ,Train_Loss: 0.2035,Valid_loss: 0.6630\n",
      "Time: 136.59119534492493sec\n",
      "Epoch [53/200],i_batch=169 ,Train_Loss: 0.1836,Valid_loss: 0.6519\n",
      "Time: 138.14364290237427sec\n",
      "Epoch [54/200],i_batch=169 ,Train_Loss: 0.3273,Valid_loss: 0.6510\n",
      "Time: 134.21635222434998sec\n",
      "Epoch [55/200],i_batch=169 ,Train_Loss: 0.3280,Valid_loss: 0.6441\n",
      "Time: 132.4263207912445sec\n",
      "Epoch [56/200],i_batch=169 ,Train_Loss: 0.2141,Valid_loss: 0.6442\n",
      "Time: 136.63271188735962sec\n",
      "Epoch [57/200],i_batch=169 ,Train_Loss: 0.1699,Valid_loss: 0.6789\n",
      "Time: 181.59307956695557sec\n",
      "Epoch [58/200],i_batch=169 ,Train_Loss: 0.1780,Valid_loss: 0.6809\n",
      "Time: 171.86553859710693sec\n",
      "Epoch [59/200],i_batch=169 ,Train_Loss: 0.3261,Valid_loss: 0.6600\n",
      "Time: 135.1268162727356sec\n",
      "Epoch [60/200],i_batch=169 ,Train_Loss: 0.3234,Valid_loss: 0.6460\n",
      "Time: 140.2039930820465sec\n",
      "Epoch [61/200],i_batch=169 ,Train_Loss: 0.3069,Valid_loss: 0.6477\n",
      "Time: 136.91853046417236sec\n",
      "Epoch [62/200],i_batch=169 ,Train_Loss: 0.1614,Valid_loss: 0.6494\n",
      "Time: 139.54056072235107sec\n",
      "Epoch [63/200],i_batch=169 ,Train_Loss: 0.1722,Valid_loss: 0.6655\n",
      "Time: 134.9665162563324sec\n",
      "Epoch [64/200],i_batch=169 ,Train_Loss: 0.1604,Valid_loss: 0.6699\n",
      "Time: 137.46124863624573sec\n",
      "Epoch [65/200],i_batch=169 ,Train_Loss: 0.2852,Valid_loss: 0.6525\n",
      "Time: 191.7763922214508sec\n",
      "Epoch [66/200],i_batch=169 ,Train_Loss: 0.1634,Valid_loss: 0.6600\n",
      "Time: 219.44557356834412sec\n",
      "Epoch [67/200],i_batch=169 ,Train_Loss: 0.1487,Valid_loss: 0.6770\n",
      "Time: 162.11689257621765sec\n",
      "Epoch [68/200],i_batch=169 ,Train_Loss: 0.2820,Valid_loss: 0.6686\n",
      "Time: 142.7503571510315sec\n",
      "Epoch [69/200],i_batch=169 ,Train_Loss: 0.2815,Valid_loss: 0.6639\n",
      "Time: 121.74020290374756sec\n",
      "Epoch [70/200],i_batch=169 ,Train_Loss: 0.1485,Valid_loss: 0.6720\n",
      "Time: 173.3938159942627sec\n",
      "Epoch [71/200],i_batch=169 ,Train_Loss: 0.2827,Valid_loss: 0.6765\n",
      "Time: 244.35382723808289sec\n",
      "Epoch [72/200],i_batch=169 ,Train_Loss: 0.1641,Valid_loss: 0.6666\n",
      "Time: 250.58690094947815sec\n",
      "Epoch [73/200],i_batch=169 ,Train_Loss: 0.2638,Valid_loss: 0.6814\n",
      "Time: 217.20550727844238sec\n",
      "Epoch [74/200],i_batch=169 ,Train_Loss: 0.1361,Valid_loss: 0.6686\n",
      "Time: 188.16118001937866sec\n",
      "Epoch [75/200],i_batch=169 ,Train_Loss: 0.1457,Valid_loss: 0.6711\n",
      "Time: 149.72793436050415sec\n",
      "Epoch [76/200],i_batch=169 ,Train_Loss: 0.1459,Valid_loss: 0.6849\n",
      "Time: 137.19412755966187sec\n",
      "Epoch [77/200],i_batch=169 ,Train_Loss: 0.1306,Valid_loss: 0.6606\n",
      "Time: 144.92065382003784sec\n",
      "Epoch [78/200],i_batch=169 ,Train_Loss: 0.3092,Valid_loss: 0.6785\n",
      "Time: 152.21857237815857sec\n",
      "Epoch [79/200],i_batch=169 ,Train_Loss: 0.2501,Valid_loss: 0.6772\n",
      "Time: 140.9271059036255sec\n",
      "Epoch [80/200],i_batch=169 ,Train_Loss: 0.3599,Valid_loss: 0.6970\n",
      "Time: 137.31177473068237sec\n"
     ]
    },
    {
     "ename": "KeyboardInterrupt",
     "evalue": "",
     "output_type": "error",
     "traceback": [
      "\u001b[0;31m---------------------------------------------------------------------------\u001b[0m",
      "\u001b[0;31mKeyboardInterrupt\u001b[0m                         Traceback (most recent call last)",
      "\u001b[0;32m<ipython-input-49-0c45f914203a>\u001b[0m in \u001b[0;36m<module>\u001b[0;34m\u001b[0m\n\u001b[1;32m      6\u001b[0m \u001b[0mval_loss\u001b[0m\u001b[0;34m=\u001b[0m\u001b[0;36m0\u001b[0m\u001b[0;34m\u001b[0m\u001b[0;34m\u001b[0m\u001b[0m\n\u001b[1;32m      7\u001b[0m \u001b[0;32mfor\u001b[0m \u001b[0me\u001b[0m \u001b[0;32min\u001b[0m \u001b[0mrange\u001b[0m\u001b[0;34m(\u001b[0m\u001b[0mhyper_param_epoch\u001b[0m\u001b[0;34m)\u001b[0m\u001b[0;34m:\u001b[0m\u001b[0;34m\u001b[0m\u001b[0;34m\u001b[0m\u001b[0m\n\u001b[0;32m----> 8\u001b[0;31m         \u001b[0;32mfor\u001b[0m \u001b[0mi_batch\u001b[0m\u001b[0;34m,\u001b[0m \u001b[0mitem\u001b[0m \u001b[0;32min\u001b[0m \u001b[0menumerate\u001b[0m\u001b[0;34m(\u001b[0m\u001b[0mtrain_loader\u001b[0m\u001b[0;34m)\u001b[0m\u001b[0;34m:\u001b[0m\u001b[0;34m\u001b[0m\u001b[0;34m\u001b[0m\u001b[0m\n\u001b[0m\u001b[1;32m      9\u001b[0m \u001b[0;34m\u001b[0m\u001b[0m\n\u001b[1;32m     10\u001b[0m                 \u001b[0mnpys\u001b[0m \u001b[0;34m=\u001b[0m \u001b[0mitem\u001b[0m\u001b[0;34m[\u001b[0m\u001b[0;34m'npy'\u001b[0m\u001b[0;34m]\u001b[0m\u001b[0;34m.\u001b[0m\u001b[0mto\u001b[0m\u001b[0;34m(\u001b[0m\u001b[0mdevice\u001b[0m\u001b[0;34m)\u001b[0m\u001b[0;34m\u001b[0m\u001b[0;34m\u001b[0m\u001b[0m\n",
      "\u001b[0;32m~/.local/lib/python3.6/site-packages/torch/utils/data/dataloader.py\u001b[0m in \u001b[0;36m__next__\u001b[0;34m(self)\u001b[0m\n\u001b[1;32m    519\u001b[0m             \u001b[0;32mif\u001b[0m \u001b[0mself\u001b[0m\u001b[0;34m.\u001b[0m\u001b[0m_sampler_iter\u001b[0m \u001b[0;32mis\u001b[0m \u001b[0;32mNone\u001b[0m\u001b[0;34m:\u001b[0m\u001b[0;34m\u001b[0m\u001b[0;34m\u001b[0m\u001b[0m\n\u001b[1;32m    520\u001b[0m                 \u001b[0mself\u001b[0m\u001b[0;34m.\u001b[0m\u001b[0m_reset\u001b[0m\u001b[0;34m(\u001b[0m\u001b[0;34m)\u001b[0m\u001b[0;34m\u001b[0m\u001b[0;34m\u001b[0m\u001b[0m\n\u001b[0;32m--> 521\u001b[0;31m             \u001b[0mdata\u001b[0m \u001b[0;34m=\u001b[0m \u001b[0mself\u001b[0m\u001b[0;34m.\u001b[0m\u001b[0m_next_data\u001b[0m\u001b[0;34m(\u001b[0m\u001b[0;34m)\u001b[0m\u001b[0;34m\u001b[0m\u001b[0;34m\u001b[0m\u001b[0m\n\u001b[0m\u001b[1;32m    522\u001b[0m             \u001b[0mself\u001b[0m\u001b[0;34m.\u001b[0m\u001b[0m_num_yielded\u001b[0m \u001b[0;34m+=\u001b[0m \u001b[0;36m1\u001b[0m\u001b[0;34m\u001b[0m\u001b[0;34m\u001b[0m\u001b[0m\n\u001b[1;32m    523\u001b[0m             \u001b[0;32mif\u001b[0m \u001b[0mself\u001b[0m\u001b[0;34m.\u001b[0m\u001b[0m_dataset_kind\u001b[0m \u001b[0;34m==\u001b[0m \u001b[0m_DatasetKind\u001b[0m\u001b[0;34m.\u001b[0m\u001b[0mIterable\u001b[0m \u001b[0;32mand\u001b[0m\u001b[0;31m \u001b[0m\u001b[0;31m\\\u001b[0m\u001b[0;34m\u001b[0m\u001b[0;34m\u001b[0m\u001b[0m\n",
      "\u001b[0;32m~/.local/lib/python3.6/site-packages/torch/utils/data/dataloader.py\u001b[0m in \u001b[0;36m_next_data\u001b[0;34m(self)\u001b[0m\n\u001b[1;32m    559\u001b[0m     \u001b[0;32mdef\u001b[0m \u001b[0m_next_data\u001b[0m\u001b[0;34m(\u001b[0m\u001b[0mself\u001b[0m\u001b[0;34m)\u001b[0m\u001b[0;34m:\u001b[0m\u001b[0;34m\u001b[0m\u001b[0;34m\u001b[0m\u001b[0m\n\u001b[1;32m    560\u001b[0m         \u001b[0mindex\u001b[0m \u001b[0;34m=\u001b[0m \u001b[0mself\u001b[0m\u001b[0;34m.\u001b[0m\u001b[0m_next_index\u001b[0m\u001b[0;34m(\u001b[0m\u001b[0;34m)\u001b[0m  \u001b[0;31m# may raise StopIteration\u001b[0m\u001b[0;34m\u001b[0m\u001b[0;34m\u001b[0m\u001b[0m\n\u001b[0;32m--> 561\u001b[0;31m         \u001b[0mdata\u001b[0m \u001b[0;34m=\u001b[0m \u001b[0mself\u001b[0m\u001b[0;34m.\u001b[0m\u001b[0m_dataset_fetcher\u001b[0m\u001b[0;34m.\u001b[0m\u001b[0mfetch\u001b[0m\u001b[0;34m(\u001b[0m\u001b[0mindex\u001b[0m\u001b[0;34m)\u001b[0m  \u001b[0;31m# may raise StopIteration\u001b[0m\u001b[0;34m\u001b[0m\u001b[0;34m\u001b[0m\u001b[0m\n\u001b[0m\u001b[1;32m    562\u001b[0m         \u001b[0;32mif\u001b[0m \u001b[0mself\u001b[0m\u001b[0;34m.\u001b[0m\u001b[0m_pin_memory\u001b[0m\u001b[0;34m:\u001b[0m\u001b[0;34m\u001b[0m\u001b[0;34m\u001b[0m\u001b[0m\n\u001b[1;32m    563\u001b[0m             \u001b[0mdata\u001b[0m \u001b[0;34m=\u001b[0m \u001b[0m_utils\u001b[0m\u001b[0;34m.\u001b[0m\u001b[0mpin_memory\u001b[0m\u001b[0;34m.\u001b[0m\u001b[0mpin_memory\u001b[0m\u001b[0;34m(\u001b[0m\u001b[0mdata\u001b[0m\u001b[0;34m)\u001b[0m\u001b[0;34m\u001b[0m\u001b[0;34m\u001b[0m\u001b[0m\n",
      "\u001b[0;32m~/.local/lib/python3.6/site-packages/torch/utils/data/_utils/fetch.py\u001b[0m in \u001b[0;36mfetch\u001b[0;34m(self, possibly_batched_index)\u001b[0m\n\u001b[1;32m     50\u001b[0m         \u001b[0;32melse\u001b[0m\u001b[0;34m:\u001b[0m\u001b[0;34m\u001b[0m\u001b[0;34m\u001b[0m\u001b[0m\n\u001b[1;32m     51\u001b[0m             \u001b[0mdata\u001b[0m \u001b[0;34m=\u001b[0m \u001b[0mself\u001b[0m\u001b[0;34m.\u001b[0m\u001b[0mdataset\u001b[0m\u001b[0;34m[\u001b[0m\u001b[0mpossibly_batched_index\u001b[0m\u001b[0;34m]\u001b[0m\u001b[0;34m\u001b[0m\u001b[0;34m\u001b[0m\u001b[0m\n\u001b[0;32m---> 52\u001b[0;31m         \u001b[0;32mreturn\u001b[0m \u001b[0mself\u001b[0m\u001b[0;34m.\u001b[0m\u001b[0mcollate_fn\u001b[0m\u001b[0;34m(\u001b[0m\u001b[0mdata\u001b[0m\u001b[0;34m)\u001b[0m\u001b[0;34m\u001b[0m\u001b[0;34m\u001b[0m\u001b[0m\n\u001b[0m",
      "\u001b[0;32m~/.local/lib/python3.6/site-packages/torch/utils/data/_utils/collate.py\u001b[0m in \u001b[0;36mdefault_collate\u001b[0;34m(batch)\u001b[0m\n\u001b[1;32m     72\u001b[0m         \u001b[0;32mreturn\u001b[0m \u001b[0mbatch\u001b[0m\u001b[0;34m\u001b[0m\u001b[0;34m\u001b[0m\u001b[0m\n\u001b[1;32m     73\u001b[0m     \u001b[0;32melif\u001b[0m \u001b[0misinstance\u001b[0m\u001b[0;34m(\u001b[0m\u001b[0melem\u001b[0m\u001b[0;34m,\u001b[0m \u001b[0mcollections\u001b[0m\u001b[0;34m.\u001b[0m\u001b[0mabc\u001b[0m\u001b[0;34m.\u001b[0m\u001b[0mMapping\u001b[0m\u001b[0;34m)\u001b[0m\u001b[0;34m:\u001b[0m\u001b[0;34m\u001b[0m\u001b[0;34m\u001b[0m\u001b[0m\n\u001b[0;32m---> 74\u001b[0;31m         \u001b[0;32mreturn\u001b[0m \u001b[0;34m{\u001b[0m\u001b[0mkey\u001b[0m\u001b[0;34m:\u001b[0m \u001b[0mdefault_collate\u001b[0m\u001b[0;34m(\u001b[0m\u001b[0;34m[\u001b[0m\u001b[0md\u001b[0m\u001b[0;34m[\u001b[0m\u001b[0mkey\u001b[0m\u001b[0;34m]\u001b[0m \u001b[0;32mfor\u001b[0m \u001b[0md\u001b[0m \u001b[0;32min\u001b[0m \u001b[0mbatch\u001b[0m\u001b[0;34m]\u001b[0m\u001b[0;34m)\u001b[0m \u001b[0;32mfor\u001b[0m \u001b[0mkey\u001b[0m \u001b[0;32min\u001b[0m \u001b[0melem\u001b[0m\u001b[0;34m}\u001b[0m\u001b[0;34m\u001b[0m\u001b[0;34m\u001b[0m\u001b[0m\n\u001b[0m\u001b[1;32m     75\u001b[0m     \u001b[0;32melif\u001b[0m \u001b[0misinstance\u001b[0m\u001b[0;34m(\u001b[0m\u001b[0melem\u001b[0m\u001b[0;34m,\u001b[0m \u001b[0mtuple\u001b[0m\u001b[0;34m)\u001b[0m \u001b[0;32mand\u001b[0m \u001b[0mhasattr\u001b[0m\u001b[0;34m(\u001b[0m\u001b[0melem\u001b[0m\u001b[0;34m,\u001b[0m \u001b[0;34m'_fields'\u001b[0m\u001b[0;34m)\u001b[0m\u001b[0;34m:\u001b[0m  \u001b[0;31m# namedtuple\u001b[0m\u001b[0;34m\u001b[0m\u001b[0;34m\u001b[0m\u001b[0m\n\u001b[1;32m     76\u001b[0m         \u001b[0;32mreturn\u001b[0m \u001b[0melem_type\u001b[0m\u001b[0;34m(\u001b[0m\u001b[0;34m*\u001b[0m\u001b[0;34m(\u001b[0m\u001b[0mdefault_collate\u001b[0m\u001b[0;34m(\u001b[0m\u001b[0msamples\u001b[0m\u001b[0;34m)\u001b[0m \u001b[0;32mfor\u001b[0m \u001b[0msamples\u001b[0m \u001b[0;32min\u001b[0m \u001b[0mzip\u001b[0m\u001b[0;34m(\u001b[0m\u001b[0;34m*\u001b[0m\u001b[0mbatch\u001b[0m\u001b[0;34m)\u001b[0m\u001b[0;34m)\u001b[0m\u001b[0;34m)\u001b[0m\u001b[0;34m\u001b[0m\u001b[0;34m\u001b[0m\u001b[0m\n",
      "\u001b[0;32m~/.local/lib/python3.6/site-packages/torch/utils/data/_utils/collate.py\u001b[0m in \u001b[0;36m<dictcomp>\u001b[0;34m(.0)\u001b[0m\n\u001b[1;32m     72\u001b[0m         \u001b[0;32mreturn\u001b[0m \u001b[0mbatch\u001b[0m\u001b[0;34m\u001b[0m\u001b[0;34m\u001b[0m\u001b[0m\n\u001b[1;32m     73\u001b[0m     \u001b[0;32melif\u001b[0m \u001b[0misinstance\u001b[0m\u001b[0;34m(\u001b[0m\u001b[0melem\u001b[0m\u001b[0;34m,\u001b[0m \u001b[0mcollections\u001b[0m\u001b[0;34m.\u001b[0m\u001b[0mabc\u001b[0m\u001b[0;34m.\u001b[0m\u001b[0mMapping\u001b[0m\u001b[0;34m)\u001b[0m\u001b[0;34m:\u001b[0m\u001b[0;34m\u001b[0m\u001b[0;34m\u001b[0m\u001b[0m\n\u001b[0;32m---> 74\u001b[0;31m         \u001b[0;32mreturn\u001b[0m \u001b[0;34m{\u001b[0m\u001b[0mkey\u001b[0m\u001b[0;34m:\u001b[0m \u001b[0mdefault_collate\u001b[0m\u001b[0;34m(\u001b[0m\u001b[0;34m[\u001b[0m\u001b[0md\u001b[0m\u001b[0;34m[\u001b[0m\u001b[0mkey\u001b[0m\u001b[0;34m]\u001b[0m \u001b[0;32mfor\u001b[0m \u001b[0md\u001b[0m \u001b[0;32min\u001b[0m \u001b[0mbatch\u001b[0m\u001b[0;34m]\u001b[0m\u001b[0;34m)\u001b[0m \u001b[0;32mfor\u001b[0m \u001b[0mkey\u001b[0m \u001b[0;32min\u001b[0m \u001b[0melem\u001b[0m\u001b[0;34m}\u001b[0m\u001b[0;34m\u001b[0m\u001b[0;34m\u001b[0m\u001b[0m\n\u001b[0m\u001b[1;32m     75\u001b[0m     \u001b[0;32melif\u001b[0m \u001b[0misinstance\u001b[0m\u001b[0;34m(\u001b[0m\u001b[0melem\u001b[0m\u001b[0;34m,\u001b[0m \u001b[0mtuple\u001b[0m\u001b[0;34m)\u001b[0m \u001b[0;32mand\u001b[0m \u001b[0mhasattr\u001b[0m\u001b[0;34m(\u001b[0m\u001b[0melem\u001b[0m\u001b[0;34m,\u001b[0m \u001b[0;34m'_fields'\u001b[0m\u001b[0;34m)\u001b[0m\u001b[0;34m:\u001b[0m  \u001b[0;31m# namedtuple\u001b[0m\u001b[0;34m\u001b[0m\u001b[0;34m\u001b[0m\u001b[0m\n\u001b[1;32m     76\u001b[0m         \u001b[0;32mreturn\u001b[0m \u001b[0melem_type\u001b[0m\u001b[0;34m(\u001b[0m\u001b[0;34m*\u001b[0m\u001b[0;34m(\u001b[0m\u001b[0mdefault_collate\u001b[0m\u001b[0;34m(\u001b[0m\u001b[0msamples\u001b[0m\u001b[0;34m)\u001b[0m \u001b[0;32mfor\u001b[0m \u001b[0msamples\u001b[0m \u001b[0;32min\u001b[0m \u001b[0mzip\u001b[0m\u001b[0;34m(\u001b[0m\u001b[0;34m*\u001b[0m\u001b[0mbatch\u001b[0m\u001b[0;34m)\u001b[0m\u001b[0;34m)\u001b[0m\u001b[0;34m)\u001b[0m\u001b[0;34m\u001b[0m\u001b[0;34m\u001b[0m\u001b[0m\n",
      "\u001b[0;32m~/.local/lib/python3.6/site-packages/torch/utils/data/_utils/collate.py\u001b[0m in \u001b[0;36mdefault_collate\u001b[0;34m(batch)\u001b[0m\n\u001b[1;32m     54\u001b[0m             \u001b[0mstorage\u001b[0m \u001b[0;34m=\u001b[0m \u001b[0melem\u001b[0m\u001b[0;34m.\u001b[0m\u001b[0mstorage\u001b[0m\u001b[0;34m(\u001b[0m\u001b[0;34m)\u001b[0m\u001b[0;34m.\u001b[0m\u001b[0m_new_shared\u001b[0m\u001b[0;34m(\u001b[0m\u001b[0mnumel\u001b[0m\u001b[0;34m)\u001b[0m\u001b[0;34m\u001b[0m\u001b[0;34m\u001b[0m\u001b[0m\n\u001b[1;32m     55\u001b[0m             \u001b[0mout\u001b[0m \u001b[0;34m=\u001b[0m \u001b[0melem\u001b[0m\u001b[0;34m.\u001b[0m\u001b[0mnew\u001b[0m\u001b[0;34m(\u001b[0m\u001b[0mstorage\u001b[0m\u001b[0;34m)\u001b[0m\u001b[0;34m\u001b[0m\u001b[0;34m\u001b[0m\u001b[0m\n\u001b[0;32m---> 56\u001b[0;31m         \u001b[0;32mreturn\u001b[0m \u001b[0mtorch\u001b[0m\u001b[0;34m.\u001b[0m\u001b[0mstack\u001b[0m\u001b[0;34m(\u001b[0m\u001b[0mbatch\u001b[0m\u001b[0;34m,\u001b[0m \u001b[0;36m0\u001b[0m\u001b[0;34m,\u001b[0m \u001b[0mout\u001b[0m\u001b[0;34m=\u001b[0m\u001b[0mout\u001b[0m\u001b[0;34m)\u001b[0m\u001b[0;34m\u001b[0m\u001b[0;34m\u001b[0m\u001b[0m\n\u001b[0m\u001b[1;32m     57\u001b[0m     \u001b[0;32melif\u001b[0m \u001b[0melem_type\u001b[0m\u001b[0;34m.\u001b[0m\u001b[0m__module__\u001b[0m \u001b[0;34m==\u001b[0m \u001b[0;34m'numpy'\u001b[0m \u001b[0;32mand\u001b[0m \u001b[0melem_type\u001b[0m\u001b[0;34m.\u001b[0m\u001b[0m__name__\u001b[0m \u001b[0;34m!=\u001b[0m \u001b[0;34m'str_'\u001b[0m\u001b[0;31m \u001b[0m\u001b[0;31m\\\u001b[0m\u001b[0;34m\u001b[0m\u001b[0;34m\u001b[0m\u001b[0m\n\u001b[1;32m     58\u001b[0m             \u001b[0;32mand\u001b[0m \u001b[0melem_type\u001b[0m\u001b[0;34m.\u001b[0m\u001b[0m__name__\u001b[0m \u001b[0;34m!=\u001b[0m \u001b[0;34m'string_'\u001b[0m\u001b[0;34m:\u001b[0m\u001b[0;34m\u001b[0m\u001b[0;34m\u001b[0m\u001b[0m\n",
      "\u001b[0;31mKeyboardInterrupt\u001b[0m: "
     ]
    }
   ],
   "source": [
    "loss_value=1\n",
    "start=time.time()\n",
    "custom_model.train()\n",
    "train_loss_history=[]\n",
    "valid_loss_history=[]\n",
    "val_loss=0\n",
    "for e in range(hyper_param_epoch):\n",
    "        for i_batch, item in enumerate(train_loader):\n",
    "                \n",
    "                npys = item['npy'].to(device)\n",
    "                labels = item['label'].to(device)\n",
    "                #print(npys)\n",
    "                # Forward pass\n",
    "                outputs =custom_model(npys)\n",
    "                loss = criterion(outputs, labels)\n",
    "\n",
    "                # Backward and optimize\n",
    "                optimizer.zero_grad()\n",
    "                loss.backward()\n",
    "                optimizer.step()\n",
    "                \n",
    "        val_loss=validation_loss(custom_model)\n",
    "        train_loss_history.append(loss.item())\n",
    "        valid_loss_history.append(val_loss)\n",
    "        print('Epoch [{}/{}],i_batch={} ,Train_Loss: {:.4f},Valid_loss: {:.4f}'\n",
    "                                        .format(e + 1, hyper_param_epoch, i_batch+1, loss.item(),val_loss))\n",
    "        print(\"Time: {}sec\".format(time.time()-start))\n",
    "        start=time.time()\n",
    "        if loss_value>val_loss:\n",
    "                loss_value=val_loss\n",
    "                torch.save({\n",
    "                'epoch': e,\n",
    "                'model_state_dict': custom_model.state_dict(),\n",
    "                'optimizer_state_dict': optimizer.state_dict(),\n",
    "                'loss': loss,\n",
    "                }, '/home/sumins/workspace/washout classification/model_save/equal2.pth')\n"
   ]
  },
  {
   "cell_type": "code",
   "execution_count": 50,
   "metadata": {},
   "outputs": [
    {
     "data": {
      "image/png": "[encoded data removed]",
      "text/plain": [
       "<Figure size 432x288 with 1 Axes>"
      ]
     },
     "metadata": {
      "needs_background": "light"
     },
     "output_type": "display_data"
    }
   ],
   "source": [
    "plt.plot(train_loss_history)\n",
    "plt.plot(valid_loss_history)\n",
    "plt.title('Model loss')\n",
    "plt.xlabel('Epoch')\n",
    "plt.ylabel('Loss')\n",
    "plt.legend(['Train', 'Test'], loc='upper left')\n",
    "plt.show()"
   ]
  },
  {
   "cell_type": "code",
   "execution_count": 29,
   "metadata": {},
   "outputs": [
    {
     "data": {
      "image/png": "[encoded data removed]",
      "text/plain": [
       "<Figure size 432x288 with 1 Axes>"
      ]
     },
     "metadata": {
      "needs_background": "light"
     },
     "output_type": "display_data"
    }
   ],
   "source": [
    "v=valid_loss_history[:]\n",
    "\n",
    "t=train_loss_history[:]\n",
    "del v[192]\n",
    "\n",
    "del t[192]\n",
    "del v[196]\n",
    "\n",
    "del t[196]\n",
    "plt.plot(t)\n",
    "plt.plot(v)\n",
    "plt.title('Model loss')\n",
    "plt.xlabel('Epoch')\n",
    "plt.ylabel('Loss')\n",
    "plt.legend(['Train', 'Test'], loc='upper left')\n",
    "plt.show()"
   ]
  },
  {
   "cell_type": "code",
   "execution_count": 15,
   "metadata": {},
   "outputs": [],
   "source": [
    "import csv\n",
    "\n",
    "\n",
    "with open(\"v_loss_equal.csv\", 'w') as file:\n",
    "  writer = csv.writer(file)\n",
    "  writer.writerow(valid_loss_history)\n",
    "with open(\"t_loss_equal.csv\", 'w') as file:\n",
    "  writer = csv.writer(file)\n",
    "  writer.writerow(train_loss_history)"
   ]
  },
  {
   "cell_type": "code",
   "execution_count": 51,
   "metadata": {},
   "outputs": [
    {
     "name": "stdout",
     "output_type": "stream",
     "text": [
      "18\n",
      "tensor(0.4788, device='cuda:0', requires_grad=True)\n",
      "Test Accuracy of the model on the 293 test images: 73.37883959044369 %\n"
     ]
    }
   ],
   "source": [
    "true_label=[]\n",
    "pred_label=[]\n",
    "\n",
    "model=CustomConvNet().to(device)\n",
    "optimizer = torch.optim.Adam(model.parameters(), lr=hyper_param_learning_rate)\n",
    "\n",
    "checkpoint = torch.load('/home/sumins/workspace/washout classification/model_save/equal2.pth')\n",
    "model.load_state_dict(checkpoint['model_state_dict'])\n",
    "optimizer.load_state_dict(checkpoint['optimizer_state_dict'])\n",
    "epoch = checkpoint['epoch']\n",
    "loss = checkpoint['loss']\n",
    "print(epoch)\n",
    "print(loss)\n",
    "model.eval()\n",
    "with torch.no_grad():\n",
    "    correct = 0\n",
    "    total = 0\n",
    "    for item in test_loader:\n",
    "        npys = item['npy'].to(device)\n",
    "        labels = item['label'].to(device)\n",
    "        \n",
    "        outputs =model(npys)\n",
    "        _, predicted = torch.max(outputs.data, 1)\n",
    "        true_label.extend(labels)\n",
    "        pred_label.extend(predicted)\n",
    "        total += len(labels)\n",
    "       \n",
    "        correct += (predicted == labels).sum().item()\n",
    "        \n",
    "    print('Test Accuracy of the model on the {} test images: {} %'.format(total, 100 * correct / total))"
   ]
  },
  {
   "cell_type": "code",
   "execution_count": 52,
   "metadata": {},
   "outputs": [
    {
     "name": "stdout",
     "output_type": "stream",
     "text": [
      "              precision    recall  f1-score   support\n",
      "\n",
      "           0       0.91      0.22      0.35        97\n",
      "           1       0.72      0.99      0.83       196\n",
      "\n",
      "    accuracy                           0.73       293\n",
      "   macro avg       0.82      0.60      0.59       293\n",
      "weighted avg       0.78      0.73      0.67       293\n",
      "\n"
     ]
    }
   ],
   "source": [
    "true_labels=torch.tensor(true_label)\n",
    "true_labels=true_labels.tolist()\n",
    "pred_labels=torch.tensor(pred_label)\n",
    "pred_labels=pred_labels.tolist()\n",
    "print(classification_report(true_labels,pred_labels))"
   ]
  },
  {
   "cell_type": "code",
   "execution_count": 53,
   "metadata": {},
   "outputs": [
    {
     "name": "stdout",
     "output_type": "stream",
     "text": [
      "18\n",
      "tensor(0.4788, device='cuda:0', requires_grad=True)\n",
      "Test Accuracy of the model on the 1347 test images: 98.96065330363771 %\n"
     ]
    }
   ],
   "source": [
    "true_label=[]\n",
    "pred_label=[]\n",
    "\n",
    "model=CustomConvNet().to(device)\n",
    "optimizer = torch.optim.Adam(model.parameters(), lr=hyper_param_learning_rate)\n",
    "\n",
    "checkpoint = torch.load('/home/sumins/workspace/washout classification/model_save/equal2.pth')\n",
    "model.load_state_dict(checkpoint['model_state_dict'])\n",
    "optimizer.load_state_dict(checkpoint['optimizer_state_dict'])\n",
    "epoch = checkpoint['epoch']\n",
    "loss = checkpoint['loss']\n",
    "print(epoch)\n",
    "print(loss)\n",
    "model.eval()\n",
    "with torch.no_grad():\n",
    "    correct = 0\n",
    "    total = 0\n",
    "    for item in train_loader:\n",
    "        npys = item['npy'].to(device)\n",
    "        labels = item['label'].to(device)\n",
    "        \n",
    "        outputs =model(npys)\n",
    "        _, predicted = torch.max(outputs.data, 1)\n",
    "        true_label.extend(labels)\n",
    "        pred_label.extend(predicted)\n",
    "        total += len(labels)\n",
    "       \n",
    "        correct += (predicted == labels).sum().item()\n",
    "        \n",
    "    print('Test Accuracy of the model on the {} test images: {} %'.format(total, 100 * correct / total))"
   ]
  },
  {
   "cell_type": "code",
   "execution_count": 54,
   "metadata": {},
   "outputs": [
    {
     "name": "stdout",
     "output_type": "stream",
     "text": [
      "              precision    recall  f1-score   support\n",
      "\n",
      "           0       0.98      0.97      0.98       299\n",
      "           1       0.99      0.99      0.99      1048\n",
      "\n",
      "    accuracy                           0.99      1347\n",
      "   macro avg       0.99      0.98      0.98      1347\n",
      "weighted avg       0.99      0.99      0.99      1347\n",
      "\n"
     ]
    }
   ],
   "source": [
    "true_labels=torch.tensor(true_label)\n",
    "true_labels=true_labels.tolist()\n",
    "pred_labels=torch.tensor(pred_label)\n",
    "pred_labels=pred_labels.tolist()\n",
    "print(classification_report(true_labels,pred_labels))"
   ]
  }
 ],
 "metadata": {
  "kernelspec": {
   "display_name": "Python 3.6.9 64-bit",
   "language": "python",
   "name": "python3"
  },
  "language_info": {
   "codemirror_mode": {
    "name": "ipython",
    "version": 3
   },
   "file_extension": ".py",
   "mimetype": "text/x-python",
   "name": "python",
   "nbconvert_exporter": "python",
   "pygments_lexer": "ipython3",
   "version": "3.6.9"
  },
  "orig_nbformat": 4,
  "vscode": {
   "interpreter": {
    "hash": "31f2aee4e71d21fbe5cf8b01ff0e069b9275f58929596ceb00d14d90e3e16cd6"
   }
  }
 },
 "nbformat": 4,
 "nbformat_minor": 2
}
