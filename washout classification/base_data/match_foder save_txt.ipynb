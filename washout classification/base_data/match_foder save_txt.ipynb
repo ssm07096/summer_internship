{
 "cells": [
  {
   "cell_type": "code",
   "execution_count": 1,
   "metadata": {},
   "outputs": [],
   "source": [
    "import os\n",
    "os.environ[\"CUDA_DEVICE_ORDER\"]=\"PCI_BUS_ID\"  \n",
    "os.environ[\"CUDA_VISIBLE_DEVICES\"]=\"6\""
   ]
  },
  {
   "cell_type": "code",
   "execution_count": 8,
   "metadata": {},
   "outputs": [],
   "source": [
    "import numpy as np\n",
    "from matplotlib import pyplot as plt\n",
    "import nibabel as nib\n",
    "from PIL import Image\n",
    "from matplotlib import pyplot as plt\n",
    "import torch\n",
    "from torch.utils.data import Dataset, DataLoader\n",
    "from sklearn.model_selection import train_test_split"
   ]
  },
  {
   "cell_type": "code",
   "execution_count": 9,
   "metadata": {},
   "outputs": [],
   "source": [
    "#data_path 경로\n",
    "data_path='/disk1/HCC2'"
   ]
  },
  {
   "cell_type": "code",
   "execution_count": 10,
   "metadata": {},
   "outputs": [
    {
     "name": "stdout",
     "output_type": "stream",
     "text": [
      "washout 파일이 모두 존재하는 폴더는 총 297개이다\n",
      "liverrange 파일이 모두 존재하는 폴더는 총 194개이다\n",
      "Arterial 파일이 모두 존재하는 폴더는 총 471개이다\n",
      "Portal 파일이 모두 존재하는 폴더는 총 469개이다\n",
      "Pre 파일이 모두 존재하는 폴더는 총 483개이다\n",
      "Delay 파일이 모두 존재하는 폴더는 총 448개이다\n",
      "\n",
      "6개의 파일이 모두 존재하는 폴더는 총 165개이다\n"
     ]
    }
   ],
   "source": [
    "#6개의 파일이 모두 존재하는 폴더명 리스트\n",
    "condition_match_folder=[] \n",
    "folder_names = os.walk(data_path).__next__()[1] #root 아래에 있는 폴더들\n",
    "\n",
    "liverrange=0\n",
    "washout=0\n",
    "A_Anonymize=0\n",
    "P_Anonymize=0\n",
    "R_Anonymize=0\n",
    "D_Anonymize=0\n",
    "\n",
    "\n",
    "for folder in folder_names: #kagami kuroko\n",
    "    folder_dir = os.path.join(data_path, folder) \n",
    "    files = os.walk(folder_dir).__next__()[2] #root 아래에 있는 파일들\n",
    "    exist=0\n",
    "    for file in files:\n",
    "        if file.startswith('liverrange'):\n",
    "            exist+=1\n",
    "            liverrange+=1\n",
    "        elif file.startswith('washout'):\n",
    "            exist+=1\n",
    "            washout+=1\n",
    "        elif file.startswith('A_Anonymize'):\n",
    "            exist+=1\n",
    "            A_Anonymize+=1\n",
    "        elif file.startswith('P_Anonymize'):\n",
    "            exist+=1\n",
    "            P_Anonymize+=1\n",
    "        elif file.startswith('R_Anonymize'):\n",
    "            exist+=1\n",
    "            R_Anonymize+=1\n",
    "        elif file.startswith('D_Anonymize'):\n",
    "            exist+=1\n",
    "            D_Anonymize+=1\n",
    "    if exist==6:\n",
    "        condition_match_folder.append(folder)\n",
    "print(\"washout 파일이 모두 존재하는 폴더는 총 {}개이다\".format(washout))\n",
    "print(\"liverrange 파일이 모두 존재하는 폴더는 총 {}개이다\".format(liverrange))\n",
    "print(\"Arterial 파일이 모두 존재하는 폴더는 총 {}개이다\".format(A_Anonymize))\n",
    "print(\"Portal 파일이 모두 존재하는 폴더는 총 {}개이다\".format(P_Anonymize))\n",
    "print(\"Pre 파일이 모두 존재하는 폴더는 총 {}개이다\".format(R_Anonymize))\n",
    "print(\"Delay 파일이 모두 존재하는 폴더는 총 {}개이다\\n\".format(D_Anonymize))\n",
    "\n",
    "     \n",
    "print(\"6개의 파일이 모두 존재하는 폴더는 총 {}개이다\".format(len(condition_match_folder)))"
   ]
  },
  {
   "cell_type": "code",
   "execution_count": 6,
   "metadata": {},
   "outputs": [],
   "source": [
    "#6개 파일이 모두존재하는 폴더명 txt로 저장\n",
    "savepath='/home/sumins/workspace/washout classification/condition_match_folder.txt'\n",
    "condition_match_folder.sort()\n",
    "with open (savepath,'w+') as f:\n",
    "    for i in condition_match_folder:\n",
    "        f.write(i[-4:]+'\\n')"
   ]
  }
 ],
 "metadata": {
  "kernelspec": {
   "display_name": "Python 3.6.9 64-bit",
   "language": "python",
   "name": "python3"
  },
  "language_info": {
   "codemirror_mode": {
    "name": "ipython",
    "version": 3
   },
   "file_extension": ".py",
   "mimetype": "text/x-python",
   "name": "python",
   "nbconvert_exporter": "python",
   "pygments_lexer": "ipython3",
   "version": "3.6.9"
  },
  "orig_nbformat": 4,
  "vscode": {
   "interpreter": {
    "hash": "31f2aee4e71d21fbe5cf8b01ff0e069b9275f58929596ceb00d14d90e3e16cd6"
   }
  }
 },
 "nbformat": 4,
 "nbformat_minor": 2
}
