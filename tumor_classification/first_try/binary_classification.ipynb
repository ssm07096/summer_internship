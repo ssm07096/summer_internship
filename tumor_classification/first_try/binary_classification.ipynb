{
 "cells": [
  {
   "cell_type": "code",
   "execution_count": 19,
   "metadata": {},
   "outputs": [],
   "source": [
    "import os\n",
    "os.environ[\"CUDA_DEVICE_ORDER\"]=\"PCI_BUS_ID\"  \n",
    "os.environ[\"CUDA_VISIBLE_DEVICES\"]=\"6\"\n",
    "from PIL import Image\n",
    "\n",
    "import torch\n",
    "from torch.utils.data import Dataset, DataLoader\n",
    "from torch import nn\n",
    "from torchvision import transforms"
   ]
  },
  {
   "cell_type": "code",
   "execution_count": 21,
   "metadata": {},
   "outputs": [],
   "source": [
    "class CustomImageDataset(Dataset):\n",
    "    def read_data_set(self):\n",
    "\n",
    "        all_img_files = []\n",
    "        all_labels = []\n",
    "\n",
    "        class_names = os.walk(self.data_set_path).__next__()[1] #root 아래에 있는 폴더들\n",
    "\n",
    "        for index, class_name in enumerate(class_names): #kagami kuroko\n",
    "            label = index #0,1\n",
    "            img_dir = os.path.join(self.data_set_path, class_name) #\n",
    "            img_files = os.walk(img_dir).__next__()[2] #root 아래에 있는 파일들\n",
    "\n",
    "            for img_file in img_files:\n",
    "                img_file = os.path.join(img_dir, img_file)\n",
    "                img = Image.open(img_file)\n",
    "                if img is not None:\n",
    "                    all_img_files.append(img_file) #해당 이미지 파일의 주소\n",
    "                    all_labels.append(label) #label(0,1)\n",
    "\n",
    "        return all_img_files, all_labels, len(all_img_files), len(class_names)\n",
    "\n",
    "    def __init__(self, data_set_path, transforms=None):\n",
    "        self.data_set_path = data_set_path\n",
    "        self.image_files_path, self.labels, self.length, self.num_classes = self.read_data_set()\n",
    "        self.transforms = transforms\n",
    "\n",
    "    def __getitem__(self, index):\n",
    "        image = Image.open(self.image_files_path[index])\n",
    "        image = image.convert(\"RGB\")\n",
    "\n",
    "        if self.transforms is not None:\n",
    "            image = self.transforms(image)\n",
    "\n",
    "        return {'image': image, 'label': self.labels[index]}\n",
    "\n",
    "    def __len__(self):\n",
    "        return self.length"
   ]
  },
  {
   "cell_type": "code",
   "execution_count": 22,
   "metadata": {},
   "outputs": [],
   "source": [
    "class CustomConvNet(nn.Module):\n",
    "    def __init__(self, num_classes):\n",
    "        super(CustomConvNet, self).__init__() #상속받은 class에 접근하기 위함\n",
    "\n",
    "        self.layer1 = self.conv_module(3, 16) #R,G,B channel수 \n",
    "        self.layer2 = self.conv_module(16, 32)\n",
    "        self.layer3 = self.conv_module(32, 64)\n",
    "        self.layer4 = self.conv_module(64, 128)\n",
    "        self.layer5 = self.conv_module(128, 256)\n",
    "        self.gap = self.global_avg_pool(256, num_classes)\n",
    "\n",
    "    def forward(self, x):\n",
    "        out = self.layer1(x)\n",
    "        out = self.layer2(out)\n",
    "        out = self.layer3(out)\n",
    "        out = self.layer4(out)\n",
    "        out = self.layer5(out)\n",
    "        out = self.gap(out)\n",
    "        out = out.view(-1, num_classes)\n",
    "\n",
    "        return out\n",
    "\n",
    "    def conv_module(self, in_num, out_num):\n",
    "        return nn.Sequential(\n",
    "            nn.Conv2d(in_num, out_num, kernel_size=3, stride=1, padding=1),\n",
    "            nn.BatchNorm2d(out_num),\n",
    "            nn.LeakyReLU(),\n",
    "            nn.MaxPool2d(kernel_size=2, stride=2))\n",
    "\n",
    "    def global_avg_pool(self, in_num, out_num):\n",
    "        return nn.Sequential(\n",
    "            nn.Conv2d(in_num, out_num, kernel_size=3, stride=1, padding=1),\n",
    "            nn.BatchNorm2d(out_num),\n",
    "            nn.LeakyReLU(),\n",
    "            nn.AdaptiveAvgPool2d((1, 1)))"
   ]
  },
  {
   "cell_type": "code",
   "execution_count": 23,
   "metadata": {},
   "outputs": [],
   "source": [
    "hyper_param_epoch=20\n",
    "hyper_param_batch=8\n",
    "hyper_param_learning_rate=0.001"
   ]
  },
  {
   "cell_type": "code",
   "execution_count": 24,
   "metadata": {},
   "outputs": [],
   "source": [
    "transforms_train = transforms.Compose([transforms.Resize((128, 128)),\n",
    "                                       transforms.RandomRotation(10.),\n",
    "                                       transforms.ToTensor()])\n",
    "\n",
    "transforms_test = transforms.Compose([transforms.Resize((128, 128)),\n",
    "                                      transforms.ToTensor()])"
   ]
  },
  {
   "cell_type": "code",
   "execution_count": 25,
   "metadata": {},
   "outputs": [],
   "source": [
    "train_data_set = CustomImageDataset(data_set_path=\"/home/sumins/workspace/datasets/data/train\", transforms=transforms_train)\n",
    "train_loader = DataLoader(train_data_set, batch_size=hyper_param_batch, shuffle=True)\n",
    "test_data_set = CustomImageDataset(data_set_path=\"/home/sumins/workspace/datasets/data/test\", transforms=transforms_test)\n",
    "test_loader = DataLoader(test_data_set, batch_size=hyper_param_batch, shuffle=True)"
   ]
  },
  {
   "cell_type": "code",
   "execution_count": 26,
   "metadata": {},
   "outputs": [],
   "source": [
    "if not (train_data_set.num_classes == test_data_set.num_classes):\n",
    "    print(\"error: Numbers of class in training set and test set are not equal\")\n",
    "    exit()"
   ]
  },
  {
   "cell_type": "code",
   "execution_count": 27,
   "metadata": {},
   "outputs": [],
   "source": [
    "device = torch.device('cuda:0' if torch.cuda.is_available() else 'cpu')\n",
    "\n",
    "num_classes = train_data_set.num_classes\n",
    "custom_model = CustomConvNet(num_classes=num_classes).to(device)\n",
    "\n",
    "# Loss and optimizer\n",
    "criterion = nn.CrossEntropyLoss()\n",
    "optimizer = torch.optim.Adam(custom_model.parameters(), lr=hyper_param_learning_rate)"
   ]
  },
  {
   "cell_type": "code",
   "execution_count": 28,
   "metadata": {},
   "outputs": [
    {
     "name": "stdout",
     "output_type": "stream",
     "text": [
      "Epoch [1/20], Loss: 0.4003\n",
      "Epoch [2/20], Loss: 0.3762\n",
      "Epoch [3/20], Loss: 0.3227\n",
      "Epoch [4/20], Loss: 0.3206\n",
      "Epoch [5/20], Loss: 0.3532\n",
      "Epoch [6/20], Loss: 0.3577\n",
      "Epoch [7/20], Loss: 0.2953\n",
      "Epoch [8/20], Loss: 0.2950\n",
      "Epoch [9/20], Loss: 0.3364\n",
      "Epoch [10/20], Loss: 0.3281\n",
      "Epoch [11/20], Loss: 0.2821\n",
      "Epoch [12/20], Loss: 0.2652\n",
      "Epoch [13/20], Loss: 0.2767\n",
      "Epoch [14/20], Loss: 0.2635\n",
      "Epoch [15/20], Loss: 0.2657\n",
      "Epoch [16/20], Loss: 0.2589\n",
      "Epoch [17/20], Loss: 0.2488\n",
      "Epoch [18/20], Loss: 0.2329\n",
      "Epoch [19/20], Loss: 0.2361\n",
      "Epoch [20/20], Loss: 0.2261\n"
     ]
    }
   ],
   "source": [
    "for e in range(hyper_param_epoch):\n",
    "    for i_batch, item in enumerate(train_loader):\n",
    "        images = item['image'].to(device)\n",
    "        labels = item['label'].to(device)\n",
    "      \n",
    "        # Forward pass\n",
    "        outputs = custom_model(images)\n",
    "        loss = criterion(outputs, labels)\n",
    "\n",
    "        # Backward and optimize\n",
    "        optimizer.zero_grad()\n",
    "        loss.backward()\n",
    "        optimizer.step()\n",
    "\n",
    "        if (i_batch + 1) % hyper_param_batch == 0:\n",
    "            print('Epoch [{}/{}], Loss: {:.4f}'\n",
    "                  .format(e + 1, hyper_param_epoch, loss.item()))"
   ]
  },
  {
   "cell_type": "code",
   "execution_count": 29,
   "metadata": {},
   "outputs": [
    {
     "name": "stdout",
     "output_type": "stream",
     "text": [
      "Test Accuracy of the model on the 20 test images: 100.0 %\n"
     ]
    }
   ],
   "source": [
    "# Test the model\n",
    "custom_model.eval()  # eval mode (batchnorm uses moving mean/variance instead of mini-batch mean/variance)\n",
    "with torch.no_grad():\n",
    "    correct = 0\n",
    "    total = 0\n",
    "    for item in test_loader:\n",
    "        images = item['image'].to(device)\n",
    "        labels = item['label'].to(device)\n",
    "        outputs = custom_model(images)\n",
    "        _, predicted = torch.max(outputs.data, 1)\n",
    "        total += len(labels)\n",
    "        correct += (predicted == labels).sum().item()\n",
    "\n",
    "    print('Test Accuracy of the model on the {} test images: {} %'.format(total, 100 * correct / total))"
   ]
  }
 ],
 "metadata": {
  "kernelspec": {
   "display_name": "Python 3.8.13 ('sumin')",
   "language": "python",
   "name": "python3"
  },
  "language_info": {
   "codemirror_mode": {
    "name": "ipython",
    "version": 3
   },
   "file_extension": ".py",
   "mimetype": "text/x-python",
   "name": "python",
   "nbconvert_exporter": "python",
   "pygments_lexer": "ipython3",
   "version": "3.8.13"
  },
  "orig_nbformat": 4,
  "vscode": {
   "interpreter": {
    "hash": "8662489421c85720184634abd9f686ec8abd1a7090d79b04c8785e98a78ffead"
   }
  }
 },
 "nbformat": 4,
 "nbformat_minor": 2
}
