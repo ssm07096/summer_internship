{
 "cells": [
  {
   "cell_type": "code",
   "execution_count": 1,
   "metadata": {},
   "outputs": [],
   "source": [
    "import os\n",
    "os.environ[\"CUDA_DEVICE_ORDER\"]=\"PCI_BUS_ID\"  \n",
    "os.environ[\"CUDA_VISIBLE_DEVICES\"]=\"7\""
   ]
  },
  {
   "cell_type": "code",
   "execution_count": 2,
   "metadata": {},
   "outputs": [],
   "source": [
    "import numpy as np\n",
    "from matplotlib import pyplot as plt\n",
    "import nibabel as nib\n",
    "from PIL import Image\n",
    "from matplotlib import pyplot as plt\n",
    "import torch\n",
    "from torch.utils.data import Dataset, DataLoader\n",
    "from sklearn.model_selection import train_test_split\n",
    "from torch import nn\n",
    "import torchsummary\n",
    "from torchvision import transforms\n",
    "import time\n",
    "from sklearn.metrics import classification_report"
   ]
  },
  {
   "cell_type": "code",
   "execution_count": 4,
   "metadata": {},
   "outputs": [],
   "source": [
    "match_folder=np.loadtxt('/home/sumins/workspace/washout classification/base_data/condition_match_folder.txt',dtype=str)\n",
    "match_folder=match_folder.tolist()"
   ]
  },
  {
   "cell_type": "code",
   "execution_count": 5,
   "metadata": {},
   "outputs": [],
   "source": [
    "import ast\n",
    "range_path='/home/sumins/workspace/washout classification/base_data/liverrange.txt'\n",
    "range_value_path='/home/sumins/workspace/washout classification/base_data/liverrange_value.txt'\n",
    "\n",
    "liverrange=[]\n",
    "liverrange_value=[]\n",
    "with open (range_path,'r') as f:\n",
    "    lines=f.readlines()\n",
    "    for line in lines:\n",
    "        line=line.strip()\n",
    "        liverrange.append(ast.literal_eval(line))\n",
    "\n",
    "with open (range_value_path,'r') as f:\n",
    "    lines=f.readlines()\n",
    "    for line in lines:\n",
    "        line=line.strip()\n",
    "        liverrange_value.append(ast.literal_eval(line))"
   ]
  },
  {
   "cell_type": "code",
   "execution_count": 6,
   "metadata": {},
   "outputs": [],
   "source": [
    "same=0\n",
    "diff=0\n",
    "diff_index=[]\n",
    "for index, i in enumerate(liverrange_value):\n",
    "    if i[0]==i[1]==i[2]==i[3]:\n",
    "        same+=1\n",
    "    else:\n",
    "        diff+=1\n",
    "        diff_index.append(index)\n",
    "        "
   ]
  },
  {
   "cell_type": "code",
   "execution_count": 7,
   "metadata": {},
   "outputs": [
    {
     "name": "stdout",
     "output_type": "stream",
     "text": [
      "same  146\n",
      "diff  19\n"
     ]
    }
   ],
   "source": [
    "print(\"same \",same)\n",
    "print(\"diff \", diff)"
   ]
  },
  {
   "cell_type": "code",
   "execution_count": 8,
   "metadata": {},
   "outputs": [],
   "source": [
    "for k,i in enumerate(diff_index):\n",
    "    del match_folder[i-k]\n",
    "    del liverrange[i-k]\n",
    "    del liverrange_value[i-k]"
   ]
  },
  {
   "cell_type": "code",
   "execution_count": 9,
   "metadata": {},
   "outputs": [],
   "source": [
    "Tumor_slice=[]\n",
    "data_path='/disk1/HCC2'\n",
    "for i in match_folder:    \n",
    "    washout_dir = os.path.join(data_path, 'Anonymize_'+i,'washout_'+i+'.txt') \n",
    "    washout=[]\n",
    "    with open(washout_dir,'r') as f:\n",
    "        lines=f.readlines()\n",
    "        slice=[]\n",
    "        label=[]\n",
    "        for line in lines:\n",
    "            line=line.strip()\n",
    "            washout.append(line)\n",
    "        \n",
    "        for i in [washout[0],washout[-1]]:\n",
    "            k=i.split('\\t')\n",
    "            slice.append(int(k[0]))\n",
    "\n",
    "    Tumor_slice.append(slice) \n"
   ]
  },
  {
   "cell_type": "code",
   "execution_count": 10,
   "metadata": {},
   "outputs": [
    {
     "data": {
      "text/plain": [
       "[80, 87]"
      ]
     },
     "execution_count": 10,
     "metadata": {},
     "output_type": "execute_result"
    }
   ],
   "source": [
    "Tumor_slice[1]"
   ]
  },
  {
   "cell_type": "code",
   "execution_count": 11,
   "metadata": {},
   "outputs": [],
   "source": [
    "import ast\n",
    "\n",
    "path1='/home/sumins/workspace/washout classification/min_slice/arterial.txt'\n",
    "path2='/home/sumins/workspace/washout classification/min_slice/pre.txt'\n",
    "path3='/home/sumins/workspace/washout classification/min_slice/delay.txt'\n",
    "path4='/home/sumins/workspace/washout classification/min_slice/portal.txt'\n",
    "\n",
    "arterial=[]\n",
    "pre=[]\n",
    "delay=[]\n",
    "portal=[]\n",
    "\n",
    "with open (path1,'r') as f:\n",
    "    lines=f.readlines()\n",
    "    for line in lines:\n",
    "        line=line.strip()\n",
    "        arterial.append(ast.literal_eval(line))\n",
    "with open (path2,'r') as f:\n",
    "    lines=f.readlines()\n",
    "    for line in lines:\n",
    "        line=line.strip()\n",
    "        pre.append(ast.literal_eval(line))\n",
    "with open (path3,'r') as f:\n",
    "    lines=f.readlines()\n",
    "    for line in lines:\n",
    "        line=line.strip()\n",
    "        delay.append(ast.literal_eval(line))\n",
    "with open (path4,'r') as f:\n",
    "    lines=f.readlines()\n",
    "    for line in lines:\n",
    "        line=line.strip()\n",
    "        portal.append(ast.literal_eval(line))"
   ]
  },
  {
   "cell_type": "code",
   "execution_count": 12,
   "metadata": {},
   "outputs": [],
   "source": [
    "for k,i in enumerate(diff_index):\n",
    "    del arterial[i-k]\n",
    "    del pre[i-k]\n",
    "    del portal[i-k]\n",
    "    del delay[i-k]"
   ]
  },
  {
   "cell_type": "code",
   "execution_count": 13,
   "metadata": {},
   "outputs": [],
   "source": [
    "#for i in range(len(Tumor_slice)):\n",
    "liver_label=[]\n",
    "\n",
    "for j in range(len(liverrange)):\n",
    "    liver_one=[]\n",
    "    for i in range(liverrange[j][4],liverrange[j][5]+1):\n",
    "        if i in range(Tumor_slice[j][0],Tumor_slice[j][1]+1):\n",
    "            liver_one.append(1)\n",
    "        else:\n",
    "            liver_one.append(0)\n",
    "    liver_label.append(liver_one)\n",
    "        "
   ]
  },
  {
   "cell_type": "code",
   "execution_count": 14,
   "metadata": {},
   "outputs": [],
   "source": [
    "Train_slice=liver_label[:120]\n",
    "Test_slice=liver_label[120:]"
   ]
  },
  {
   "cell_type": "code",
   "execution_count": 15,
   "metadata": {},
   "outputs": [
    {
     "name": "stdout",
     "output_type": "stream",
     "text": [
      "Tumor: 1364, Clear: 3725\n"
     ]
    }
   ],
   "source": [
    "Tumor=0\n",
    "clear=0\n",
    "for i in Train_slice:\n",
    "    for j in i:\n",
    "        if j==1:\n",
    "            Tumor+=1\n",
    "        else:\n",
    "            clear+=1\n",
    "print(\"Tumor: {}, Clear: {}\".format(Tumor, clear))\n",
    "            "
   ]
  },
  {
   "cell_type": "code",
   "execution_count": 16,
   "metadata": {},
   "outputs": [
    {
     "name": "stdout",
     "output_type": "stream",
     "text": [
      "Tumor: 294, Clear: 783\n"
     ]
    }
   ],
   "source": [
    "Tumor=0\n",
    "clear=0\n",
    "for i in Test_slice:\n",
    "    for j in i:\n",
    "        if j==1:\n",
    "            Tumor+=1\n",
    "        else:\n",
    "            clear+=1\n",
    "print(\"Tumor: {}, Clear: {}\".format(Tumor, clear))"
   ]
  },
  {
   "cell_type": "code",
   "execution_count": 17,
   "metadata": {},
   "outputs": [
    {
     "data": {
      "text/plain": [
       "146"
      ]
     },
     "execution_count": 17,
     "metadata": {},
     "output_type": "execute_result"
    }
   ],
   "source": [
    "len(liver_label)"
   ]
  },
  {
   "cell_type": "code",
   "execution_count": 18,
   "metadata": {},
   "outputs": [
    {
     "data": {
      "text/plain": [
       "[52, 52, 52, 52]"
      ]
     },
     "execution_count": 18,
     "metadata": {},
     "output_type": "execute_result"
    }
   ],
   "source": [
    "liverrange_value[2]"
   ]
  },
  {
   "cell_type": "code",
   "execution_count": 20,
   "metadata": {},
   "outputs": [
    {
     "name": "stdout",
     "output_type": "stream",
     "text": [
      "0 done\n",
      "1 done\n",
      "2 done\n",
      "3 done\n",
      "4 done\n",
      "5 done\n",
      "6 done\n",
      "7 done\n",
      "8 done\n",
      "9 done\n",
      "10 done\n",
      "11 done\n",
      "12 done\n",
      "13 done\n",
      "14 done\n",
      "15 done\n",
      "16 done\n",
      "17 done\n",
      "18 done\n",
      "19 done\n",
      "20 done\n",
      "21 done\n",
      "22 done\n",
      "23 done\n",
      "24 done\n",
      "25 done\n",
      "26 done\n",
      "27 done\n",
      "28 done\n",
      "29 done\n",
      "30 done\n",
      "31 done\n",
      "32 done\n",
      "33 done\n",
      "34 done\n",
      "35 done\n",
      "36 done\n",
      "37 done\n",
      "38 done\n",
      "39 done\n",
      "40 done\n",
      "41 done\n",
      "42 done\n",
      "43 done\n",
      "44 done\n",
      "45 done\n",
      "46 done\n",
      "47 done\n",
      "48 done\n",
      "49 done\n",
      "50 done\n",
      "51 done\n",
      "52 done\n",
      "53 done\n",
      "54 done\n",
      "55 done\n",
      "56 done\n",
      "57 done\n",
      "58 done\n",
      "59 done\n",
      "60 done\n",
      "61 done\n",
      "62 done\n",
      "63 done\n",
      "64 done\n",
      "65 done\n",
      "66 done\n",
      "67 done\n",
      "68 done\n",
      "69 done\n",
      "70 done\n",
      "71 done\n",
      "72 done\n",
      "73 done\n",
      "74 done\n",
      "75 done\n",
      "76 done\n",
      "77 done\n",
      "78 done\n",
      "79 done\n",
      "80 done\n",
      "81 done\n",
      "82 done\n",
      "83 done\n",
      "84 done\n",
      "85 done\n",
      "86 done\n",
      "87 done\n",
      "88 done\n",
      "89 done\n",
      "90 done\n",
      "91 done\n",
      "92 done\n",
      "93 done\n",
      "94 done\n",
      "95 done\n",
      "96 done\n",
      "97 done\n",
      "98 done\n",
      "99 done\n",
      "100 done\n",
      "101 done\n",
      "102 done\n",
      "103 done\n",
      "104 done\n",
      "105 done\n",
      "106 done\n",
      "107 done\n",
      "108 done\n",
      "109 done\n",
      "110 done\n",
      "111 done\n",
      "112 done\n",
      "113 done\n",
      "114 done\n",
      "115 done\n",
      "116 done\n",
      "117 done\n",
      "118 done\n",
      "119 done\n"
     ]
    }
   ],
   "source": [
    "A_DATA=[]\n",
    "R_DATA=[]\n",
    "P_DATA=[]   \n",
    "D_DATA=[]\n",
    "all_phase=[]\n",
    "LABEL=[]\n",
    "data_path='/disk1/HCC2'\n",
    "for i in range(len(Train_slice)):\n",
    "    folder_name=match_folder[i]\n",
    "    a_path=os.path.join(data_path, 'Anonymize_'+folder_name,'A_Anonymize_'+folder_name+'.nii') \n",
    "    a_data_all=nib.load(a_path).get_fdata()\n",
    "    r_path=os.path.join(data_path, 'Anonymize_'+folder_name,'R_Anonymize_'+folder_name+'.nii') \n",
    "    r_data_all=nib.load(r_path).get_fdata()\n",
    "    p_path=os.path.join(data_path, 'Anonymize_'+folder_name,'P_Anonymize_'+folder_name+'.nii') \n",
    "    p_data_all=nib.load(p_path).get_fdata()\n",
    "    d_path=os.path.join(data_path, 'Anonymize_'+folder_name,'D_Anonymize_'+folder_name+'.nii') \n",
    "    d_data_all=nib.load(d_path).get_fdata()\n",
    "\n",
    "    for j in range(0,liverrange_value[i][0]):\n",
    "        r=r_data_all[:,:,pre[i][j]-1].astype(dtype='float32')\n",
    "        a=a_data_all[:,:,arterial[i][j]-1].astype(dtype='float32')\n",
    "        p=p_data_all[:,:,portal[i][j]-1].astype(dtype='float32')\n",
    "        d=d_data_all[:,:,delay[i][j]-1].astype(dtype='float32')\n",
    "        DATASET=np.stack([r,a,p,d],axis=-1)\n",
    "        all_phase.append(DATASET)\n",
    "\n",
    "        LABEL.append(Train_slice[i][j])\n",
    "    a_data_all=0\n",
    "    r_data_all=0\n",
    "    p_data_all=0\n",
    "    d_data_all=0\n",
    "    print(i, \"done\")\n",
    "\n",
    "\n",
    "        "
   ]
  },
  {
   "cell_type": "code",
   "execution_count": 21,
   "metadata": {},
   "outputs": [
    {
     "name": "stdout",
     "output_type": "stream",
     "text": [
      "5089\n"
     ]
    }
   ],
   "source": [
    "print(len(all_phase))"
   ]
  },
  {
   "cell_type": "code",
   "execution_count": 22,
   "metadata": {},
   "outputs": [],
   "source": [
    "k=np.array(all_phase)\n",
    "\n",
    "data=nib.Nifti1Image(k,None)"
   ]
  },
  {
   "cell_type": "code",
   "execution_count": 23,
   "metadata": {},
   "outputs": [],
   "source": [
    "nib.save(data,'/home/sumins/workspace/washout classification/transfer_learning/channel4_train.nii')"
   ]
  },
  {
   "cell_type": "code",
   "execution_count": 24,
   "metadata": {},
   "outputs": [],
   "source": [
    "np.savetxt(\"/home/sumins/workspace/washout classification/transfer_learning/label_train.txt\",LABEL,fmt='%d')"
   ]
  },
  {
   "cell_type": "code",
   "execution_count": null,
   "metadata": {},
   "outputs": [],
   "source": [
    "A_DATA=[]\n",
    "R_DATA=[]\n",
    "P_DATA=[]   \n",
    "D_DATA=[]\n",
    "all_phase=[]\n",
    "LABEL=[]\n",
    "data_path='/disk1/HCC2'\n",
    "for i in range(len(Test_slice)):\n",
    "    folder_name=match_folder[i]\n",
    "    a_path=os.path.join(data_path, 'Anonymize_'+folder_name,'A_Anonymize_'+folder_name+'.nii') \n",
    "    a_data_all=nib.load(a_path).get_fdata()\n",
    "    r_path=os.path.join(data_path, 'Anonymize_'+folder_name,'R_Anonymize_'+folder_name+'.nii') \n",
    "    r_data_all=nib.load(r_path).get_fdata()\n",
    "    p_path=os.path.join(data_path, 'Anonymize_'+folder_name,'P_Anonymize_'+folder_name+'.nii') \n",
    "    p_data_all=nib.load(p_path).get_fdata()\n",
    "    d_path=os.path.join(data_path, 'Anonymize_'+folder_name,'D_Anonymize_'+folder_name+'.nii') \n",
    "    d_data_all=nib.load(d_path).get_fdata()\n",
    "\n",
    "    for j in range(0,liverrange_value[i][0]):\n",
    "        r=r_data_all[:,:,pre[i][j]-1].astype(dtype='float32')\n",
    "        a=a_data_all[:,:,arterial[i][j]-1].astype(dtype='float32')\n",
    "        p=p_data_all[:,:,portal[i][j]-1].astype(dtype='float32')\n",
    "        d=d_data_all[:,:,delay[i][j]-1].astype(dtype='float32')\n",
    "        DATASET=np.stack([r,a,p,d],axis=-1)\n",
    "        all_phase.append(DATASET)\n",
    "\n",
    "        LABEL.append(Train_slice[i][j])\n",
    "    a_data_all=0\n",
    "    r_data_all=0\n",
    "    p_data_all=0\n",
    "    d_data_all=0\n",
    "    print(i, \"done\")\n",
    "\n",
    "\n",
    "        "
   ]
  }
 ],
 "metadata": {
  "kernelspec": {
   "display_name": "Python 3.6.9 64-bit",
   "language": "python",
   "name": "python3"
  },
  "language_info": {
   "codemirror_mode": {
    "name": "ipython",
    "version": 3
   },
   "file_extension": ".py",
   "mimetype": "text/x-python",
   "name": "python",
   "nbconvert_exporter": "python",
   "pygments_lexer": "ipython3",
   "version": "3.6.9"
  },
  "orig_nbformat": 4,
  "vscode": {
   "interpreter": {
    "hash": "31f2aee4e71d21fbe5cf8b01ff0e069b9275f58929596ceb00d14d90e3e16cd6"
   }
  }
 },
 "nbformat": 4,
 "nbformat_minor": 2
}
