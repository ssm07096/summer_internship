{
 "cells": [
  {
   "cell_type": "code",
   "execution_count": 1,
   "metadata": {},
   "outputs": [],
   "source": [
    "import os\n",
    "os.environ[\"CUDA_DEVICE_ORDER\"]=\"PCI_BUS_ID\"  \n",
    "os.environ[\"CUDA_VISIBLE_DEVICES\"]=\"6\""
   ]
  },
  {
   "cell_type": "code",
   "execution_count": 2,
   "metadata": {},
   "outputs": [],
   "source": [
    "import numpy as np\n",
    "from matplotlib import pyplot as plt\n",
    "import nibabel as nib\n",
    "from PIL import Image\n",
    "from matplotlib import pyplot as plt\n",
    "import torch\n",
    "from torch.utils.data import Dataset, DataLoader\n",
    "from sklearn.model_selection import train_test_split\n",
    "from torch import nn\n",
    "import torchsummary\n",
    "from torchvision import transforms\n",
    "import time\n",
    "from sklearn.metrics import classification_report"
   ]
  },
  {
   "cell_type": "code",
   "execution_count": 3,
   "metadata": {},
   "outputs": [],
   "source": [
    "match_folder=np.loadtxt('/home/sumins/workspace/washout classification/base_data/condition_match_folder.txt',dtype=str)\n",
    "match_folder=match_folder.tolist()"
   ]
  },
  {
   "cell_type": "code",
   "execution_count": 4,
   "metadata": {},
   "outputs": [],
   "source": [
    "import ast\n",
    "range_path='/home/sumins/workspace/washout classification/base_data/liverrange.txt'\n",
    "range_value_path='/home/sumins/workspace/washout classification/base_data/liverrange_value.txt'\n",
    "\n",
    "liverrange=[]\n",
    "liverrange_value=[]\n",
    "with open (range_path,'r') as f:\n",
    "    lines=f.readlines()\n",
    "    for line in lines:\n",
    "        line=line.strip()\n",
    "        liverrange.append(ast.literal_eval(line))\n",
    "\n",
    "with open (range_value_path,'r') as f:\n",
    "    lines=f.readlines()\n",
    "    for line in lines:\n",
    "        line=line.strip()\n",
    "        liverrange_value.append(ast.literal_eval(line))"
   ]
  },
  {
   "cell_type": "code",
   "execution_count": 5,
   "metadata": {},
   "outputs": [],
   "source": [
    "same=0\n",
    "diff=0\n",
    "diff_index=[]\n",
    "for index, i in enumerate(liverrange_value):\n",
    "    if i[0]==i[1]==i[2]==i[3]:\n",
    "        same+=1\n",
    "    else:\n",
    "        diff+=1\n",
    "        diff_index.append(index)\n",
    "        "
   ]
  },
  {
   "cell_type": "code",
   "execution_count": 6,
   "metadata": {},
   "outputs": [
    {
     "name": "stdout",
     "output_type": "stream",
     "text": [
      "same  146\n",
      "diff  19\n"
     ]
    }
   ],
   "source": [
    "print(\"same \",same)\n",
    "print(\"diff \", diff)"
   ]
  },
  {
   "cell_type": "code",
   "execution_count": 7,
   "metadata": {},
   "outputs": [],
   "source": [
    "for k,i in enumerate(diff_index):\n",
    "    del match_folder[i-k]\n",
    "    del liverrange[i-k]\n",
    "    del liverrange_value[i-k]"
   ]
  },
  {
   "cell_type": "code",
   "execution_count": 8,
   "metadata": {},
   "outputs": [],
   "source": [
    "Tumor_slice=[]\n",
    "data_path='/disk1/HCC2'\n",
    "for i in match_folder:    \n",
    "    washout_dir = os.path.join(data_path, 'Anonymize_'+i,'washout_'+i+'.txt') \n",
    "    washout=[]\n",
    "    with open(washout_dir,'r') as f:\n",
    "        lines=f.readlines()\n",
    "        slice=[]\n",
    "        label=[]\n",
    "        for line in lines:\n",
    "            line=line.strip()\n",
    "            washout.append(line)\n",
    "        \n",
    "        for i in [washout[0],washout[-1]]:\n",
    "            k=i.split('\\t')\n",
    "            slice.append(int(k[0]))\n",
    "\n",
    "    Tumor_slice.append(slice) \n"
   ]
  },
  {
   "cell_type": "code",
   "execution_count": 9,
   "metadata": {},
   "outputs": [],
   "source": [
    "import ast\n",
    "\n",
    "path1='/home/sumins/workspace/washout classification/min_slice/arterial.txt'\n",
    "path2='/home/sumins/workspace/washout classification/min_slice/pre.txt'\n",
    "path3='/home/sumins/workspace/washout classification/min_slice/delay.txt'\n",
    "path4='/home/sumins/workspace/washout classification/min_slice/portal.txt'\n",
    "\n",
    "arterial=[]\n",
    "pre=[]\n",
    "delay=[]\n",
    "portal=[]\n",
    "\n",
    "with open (path1,'r') as f:\n",
    "    lines=f.readlines()\n",
    "    for line in lines:\n",
    "        line=line.strip()\n",
    "        arterial.append(ast.literal_eval(line))\n",
    "with open (path2,'r') as f:\n",
    "    lines=f.readlines()\n",
    "    for line in lines:\n",
    "        line=line.strip()\n",
    "        pre.append(ast.literal_eval(line))\n",
    "with open (path3,'r') as f:\n",
    "    lines=f.readlines()\n",
    "    for line in lines:\n",
    "        line=line.strip()\n",
    "        delay.append(ast.literal_eval(line))\n",
    "with open (path4,'r') as f:\n",
    "    lines=f.readlines()\n",
    "    for line in lines:\n",
    "        line=line.strip()\n",
    "        portal.append(ast.literal_eval(line))"
   ]
  },
  {
   "cell_type": "code",
   "execution_count": 10,
   "metadata": {},
   "outputs": [],
   "source": [
    "for k,i in enumerate(diff_index):\n",
    "    del arterial[i-k]\n",
    "    del pre[i-k]\n",
    "    del portal[i-k]\n",
    "    del delay[i-k]"
   ]
  },
  {
   "cell_type": "code",
   "execution_count": 11,
   "metadata": {},
   "outputs": [],
   "source": [
    "#for i in range(len(Tumor_slice)):\n",
    "liver_label=[]\n",
    "\n",
    "for j in range(len(liverrange)):\n",
    "    liver_one=[]\n",
    "    for i in range(liverrange[j][4],liverrange[j][5]+1):\n",
    "        if i in range(Tumor_slice[j][0],Tumor_slice[j][1]+1):\n",
    "            liver_one.append(1)\n",
    "        else:\n",
    "            liver_one.append(0)\n",
    "    liver_label.append(liver_one)\n",
    "        "
   ]
  },
  {
   "cell_type": "code",
   "execution_count": 12,
   "metadata": {},
   "outputs": [],
   "source": [
    "Train_slice=liver_label[:120]\n",
    "Test_slice=liver_label[120:]"
   ]
  },
  {
   "cell_type": "code",
   "execution_count": 13,
   "metadata": {},
   "outputs": [
    {
     "name": "stdout",
     "output_type": "stream",
     "text": [
      "Tumor: 1364, Clear: 3725\n"
     ]
    }
   ],
   "source": [
    "Tumor=0\n",
    "clear=0\n",
    "for i in Train_slice:\n",
    "    for j in i:\n",
    "        if j==1:\n",
    "            Tumor+=1\n",
    "        else:\n",
    "            clear+=1\n",
    "print(\"Tumor: {}, Clear: {}\".format(Tumor, clear))\n",
    "            "
   ]
  },
  {
   "cell_type": "code",
   "execution_count": 14,
   "metadata": {},
   "outputs": [
    {
     "name": "stdout",
     "output_type": "stream",
     "text": [
      "Tumor: 294, Clear: 783\n"
     ]
    }
   ],
   "source": [
    "Tumor=0\n",
    "clear=0\n",
    "for i in Test_slice:\n",
    "    for j in i:\n",
    "        if j==1:\n",
    "            Tumor+=1\n",
    "        else:\n",
    "            clear+=1\n",
    "print(\"Tumor: {}, Clear: {}\".format(Tumor, clear))"
   ]
  },
  {
   "cell_type": "code",
   "execution_count": 19,
   "metadata": {},
   "outputs": [
    {
     "name": "stdout",
     "output_type": "stream",
     "text": [
      "120 done\n",
      "121 done\n",
      "122 done\n",
      "123 done\n",
      "124 done\n",
      "125 done\n",
      "126 done\n",
      "127 done\n",
      "128 done\n",
      "129 done\n",
      "130 done\n",
      "131 done\n",
      "132 done\n",
      "133 done\n",
      "134 done\n",
      "135 done\n",
      "136 done\n",
      "137 done\n",
      "138 done\n",
      "139 done\n",
      "140 done\n",
      "141 done\n",
      "142 done\n",
      "143 done\n",
      "144 done\n",
      "145 done\n"
     ]
    }
   ],
   "source": [
    "A_DATA=[]\n",
    "R_DATA=[]\n",
    "P_DATA=[]   \n",
    "D_DATA=[]\n",
    "all_phase=[]\n",
    "LABEL=[]\n",
    "data_path='/disk1/HCC2'\n",
    "for i in range(len(Test_slice)):\n",
    "    totalnum=i+120\n",
    "    folder_name=match_folder[totalnum]\n",
    "    a_path=os.path.join(data_path, 'Anonymize_'+folder_name,'A_Anonymize_'+folder_name+'.nii') \n",
    "    a_data_all=nib.load(a_path).get_fdata()\n",
    "    r_path=os.path.join(data_path, 'Anonymize_'+folder_name,'R_Anonymize_'+folder_name+'.nii') \n",
    "    r_data_all=nib.load(r_path).get_fdata()\n",
    "    p_path=os.path.join(data_path, 'Anonymize_'+folder_name,'P_Anonymize_'+folder_name+'.nii') \n",
    "    p_data_all=nib.load(p_path).get_fdata()\n",
    "    d_path=os.path.join(data_path, 'Anonymize_'+folder_name,'D_Anonymize_'+folder_name+'.nii') \n",
    "    d_data_all=nib.load(d_path).get_fdata()\n",
    "\n",
    "    for j in range(0,liverrange_value[totalnum][0]):\n",
    "        r=r_data_all[:,:,pre[totalnum][j]-1].astype(dtype='float32')\n",
    "        a=a_data_all[:,:,arterial[totalnum][j]-1].astype(dtype='float32')\n",
    "        p=p_data_all[:,:,portal[totalnum][j]-1].astype(dtype='float32')\n",
    "        d=d_data_all[:,:,delay[totalnum][j]-1].astype(dtype='float32')\n",
    "        DATASET=np.stack([r,a,p,d],axis=-1)\n",
    "        all_phase.append(DATASET)\n",
    "\n",
    "        LABEL.append(Test_slice[i][j])\n",
    "    a_data_all=0\n",
    "    r_data_all=0\n",
    "    p_data_all=0\n",
    "    d_data_all=0\n",
    "    print(totalnum, \"done\")"
   ]
  },
  {
   "cell_type": "code",
   "execution_count": 20,
   "metadata": {},
   "outputs": [],
   "source": [
    "k=np.array(all_phase)\n",
    "\n",
    "data=nib.Nifti1Image(k,None)"
   ]
  },
  {
   "cell_type": "code",
   "execution_count": 21,
   "metadata": {},
   "outputs": [],
   "source": [
    "nib.save(data,'/home/sumins/workspace/washout classification/transfer_learning/channel4_test.nii')"
   ]
  },
  {
   "cell_type": "code",
   "execution_count": 22,
   "metadata": {},
   "outputs": [],
   "source": [
    "np.savetxt(\"/home/sumins/workspace/washout classification/transfer_learning/label_test.txt\",LABEL,fmt='%d')"
   ]
  }
 ],
 "metadata": {
  "kernelspec": {
   "display_name": "Python 3.6.9 64-bit",
   "language": "python",
   "name": "python3"
  },
  "language_info": {
   "codemirror_mode": {
    "name": "ipython",
    "version": 3
   },
   "file_extension": ".py",
   "mimetype": "text/x-python",
   "name": "python",
   "nbconvert_exporter": "python",
   "pygments_lexer": "ipython3",
   "version": "3.6.9"
  },
  "orig_nbformat": 4,
  "vscode": {
   "interpreter": {
    "hash": "31f2aee4e71d21fbe5cf8b01ff0e069b9275f58929596ceb00d14d90e3e16cd6"
   }
  }
 },
 "nbformat": 4,
 "nbformat_minor": 2
}
