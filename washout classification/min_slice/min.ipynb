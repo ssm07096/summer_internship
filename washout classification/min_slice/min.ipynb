{
 "cells": [
  {
   "cell_type": "code",
   "execution_count": 1,
   "metadata": {},
   "outputs": [],
   "source": [
    "import os\n",
    "os.environ[\"CUDA_DEVICE_ORDER\"]=\"PCI_BUS_ID\"  \n",
    "os.environ[\"CUDA_VISIBLE_DEVICES\"]=\"6\""
   ]
  },
  {
   "cell_type": "code",
   "execution_count": 3,
   "metadata": {},
   "outputs": [],
   "source": [
    "import numpy as np\n",
    "from matplotlib import pyplot as plt\n",
    "import nibabel as nib\n",
    "from PIL import Image\n",
    "from matplotlib import pyplot as plt\n",
    "import torch\n",
    "from torch.utils.data import Dataset, DataLoader\n",
    "from sklearn.model_selection import train_test_split\n",
    "from torch import nn\n",
    "import torchsummary\n",
    "from torchvision import transforms\n",
    "import time\n",
    "from sklearn.metrics import classification_report"
   ]
  },
  {
   "cell_type": "code",
   "execution_count": 4,
   "metadata": {},
   "outputs": [],
   "source": [
    "match_folder=np.loadtxt('/home/sumins/workspace/washout classification/base_data/condition_match_folder.txt',dtype=str)\n",
    "match_folder=match_folder.tolist()"
   ]
  },
  {
   "cell_type": "code",
   "execution_count": 5,
   "metadata": {},
   "outputs": [
    {
     "data": {
      "text/plain": [
       "165"
      ]
     },
     "execution_count": 5,
     "metadata": {},
     "output_type": "execute_result"
    }
   ],
   "source": [
    "len(match_folder)"
   ]
  },
  {
   "cell_type": "code",
   "execution_count": 6,
   "metadata": {},
   "outputs": [],
   "source": [
    "import ast\n",
    "range_path='/home/sumins/workspace/washout classification/base_data/liverrange.txt'\n",
    "range_value_path='/home/sumins/workspace/washout classification/base_data/liverrange_value.txt'\n",
    "\n",
    "liverrange=[]\n",
    "liverrange_value=[]\n",
    "with open (range_path,'r') as f:\n",
    "    lines=f.readlines()\n",
    "    for line in lines:\n",
    "        line=line.strip()\n",
    "        liverrange.append(ast.literal_eval(line))\n",
    "\n",
    "with open (range_value_path,'r') as f:\n",
    "    lines=f.readlines()\n",
    "    for line in lines:\n",
    "        line=line.strip()\n",
    "        liverrange_value.append(ast.literal_eval(line))"
   ]
  },
  {
   "cell_type": "code",
   "execution_count": 7,
   "metadata": {},
   "outputs": [],
   "source": [
    "same=0\n",
    "diff=0\n",
    "diff_index=[]\n",
    "for index, i in enumerate(liverrange_value):\n",
    "    if i[0]==i[1]==i[2]==i[3]:\n",
    "        same+=1\n",
    "    else:\n",
    "        diff+=1\n",
    "        diff_index.append(index)\n",
    "        "
   ]
  },
  {
   "cell_type": "code",
   "execution_count": 8,
   "metadata": {},
   "outputs": [
    {
     "name": "stdout",
     "output_type": "stream",
     "text": [
      "same  146\n",
      "diff  19\n"
     ]
    }
   ],
   "source": [
    "print(\"same \",same)\n",
    "print(\"diff \", diff)"
   ]
  },
  {
   "cell_type": "code",
   "execution_count": 9,
   "metadata": {},
   "outputs": [
    {
     "data": {
      "text/plain": [
       "int"
      ]
     },
     "execution_count": 9,
     "metadata": {},
     "output_type": "execute_result"
    }
   ],
   "source": [
    "type(liverrange_value[2][3])"
   ]
  },
  {
   "cell_type": "code",
   "execution_count": 31,
   "metadata": {},
   "outputs": [],
   "source": [
    "def findnear(mylist,num):\n",
    "    near_value_plus=0\n",
    "    near_value_minus=0\n",
    "    near_value=0\n",
    "    for i in mylist:\n",
    "        if i <=num:\n",
    "            near_value_minus=i\n",
    "        if i>=num:\n",
    "            near_value_plus=i\n",
    "            break\n",
    "    if (num-near_value_minus)<=(near_value_plus-num):\n",
    "        near_value=near_value_minus\n",
    "    else:\n",
    "        near_value=near_value_plus\n",
    "    return near_value\n",
    "        \n",
    "r_data=[]\n",
    "a_data=[]\n",
    "p_data=[]\n",
    "d_data=[]\n",
    "for i,k in enumerate(liverrange_value):\n",
    "    r=[]\n",
    "    a=[]\n",
    "    p=[]\n",
    "    d=[]\n",
    "    r_new=[]\n",
    "    a_new=[]\n",
    "    p_new=[]\n",
    "    d_new=[]\n",
    "    liver=[]\n",
    "    if k[0]==k[1]==k[2]==k[3]:\n",
    "        for num in range(k[0]):\n",
    "            r_new.append(liverrange[i][0]+num)\n",
    "            a_new.append(liverrange[i][2]+num)\n",
    "            p_new.append(liverrange[i][4]+num)\n",
    "            d_new.append(liverrange[i][6]+num)\n",
    "    else:\n",
    "        min_phase=liverrange_value[i].index(min(liverrange_value[i]))\n",
    "        myrange=liverrange[i][:]\n",
    "        for j in range(liverrange_value[i][0]):\n",
    "            r.append((j)/(liverrange_value[i][0]))\n",
    "        for j in range(liverrange_value[i][1]):\n",
    "            a.append((j)/(liverrange_value[i][1]))\n",
    "        for j in range(liverrange_value[i][2]):\n",
    "            p.append((j)/(liverrange_value[i][2]))\n",
    "        for j in range(liverrange_value[i][3]):\n",
    "            d.append((j)/(liverrange_value[i][3])) \n",
    "        liver.append(r)\n",
    "        liver.append(a)\n",
    "        liver.append(p)\n",
    "        liver.append(d)  \n",
    "        \n",
    "        for q in liver[min_phase]:\n",
    "            r_new.append(findnear(r,q))\n",
    "            a_new.append(findnear(a,q))\n",
    "            p_new.append(findnear(p,q))\n",
    "            d_new.append(findnear(d,q))\n",
    "        \n",
    "\n",
    "        for w in range(len(r_new)):\n",
    "            r_new[w]=int(r_new[w]*(liverrange_value[i][0])+myrange[0])\n",
    "            a_new[w]=int(a_new[w]*(liverrange_value[i][1])+myrange[2])\n",
    "            p_new[w]=int(p_new[w]*(liverrange_value[i][2])+myrange[4])\n",
    "            d_new[w]=int(d_new[w]*(liverrange_value[i][3])+myrange[6])\n",
    " \n",
    "            \n",
    "    r_data.append(r_new)\n",
    "    a_data.append(a_new)\n",
    "    p_data.append(p_new)\n",
    "    d_data.append(d_new)"
   ]
  },
  {
   "cell_type": "code",
   "execution_count": 32,
   "metadata": {},
   "outputs": [],
   "source": [
    "savepath1='/home/sumins/workspace/washout classification/min_slice/pre.txt'\n",
    "savepath2='/home/sumins/workspace/washout classification/min_slice/arterial.txt'\n",
    "savepath3='/home/sumins/workspace/washout classification/min_slice/portal.txt'\n",
    "savepath4='/home/sumins/workspace/washout classification/min_slice/delay.txt'\n",
    "with open (savepath1,'w+') as f:\n",
    "    for i in r_data:\n",
    "        f.write(str(i)+'\\n')\n",
    "with open (savepath2,'w+') as f:\n",
    "    for i in a_data:\n",
    "        f.write(str(i)+'\\n')\n",
    "with open (savepath3,'w+') as f:\n",
    "    for i in p_data:\n",
    "        f.write(str(i)+'\\n')\n",
    "with open (savepath4,'w+') as f:\n",
    "    for i in d_data:\n",
    "        f.write(str(i)+'\\n')"
   ]
  }
 ],
 "metadata": {
  "kernelspec": {
   "display_name": "Python 3.6.9 64-bit",
   "language": "python",
   "name": "python3"
  },
  "language_info": {
   "codemirror_mode": {
    "name": "ipython",
    "version": 3
   },
   "file_extension": ".py",
   "mimetype": "text/x-python",
   "name": "python",
   "nbconvert_exporter": "python",
   "pygments_lexer": "ipython3",
   "version": "3.6.9"
  },
  "orig_nbformat": 4,
  "vscode": {
   "interpreter": {
    "hash": "31f2aee4e71d21fbe5cf8b01ff0e069b9275f58929596ceb00d14d90e3e16cd6"
   }
  }
 },
 "nbformat": 4,
 "nbformat_minor": 2
}
