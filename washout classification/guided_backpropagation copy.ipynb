{
 "cells": [
  {
   "cell_type": "code",
   "execution_count": 1,
   "metadata": {},
   "outputs": [],
   "source": [
    "import os\n",
    "os.environ[\"CUDA_DEVICE_ORDER\"]=\"PCI_BUS_ID\"  \n",
    "os.environ[\"CUDA_VISIBLE_DEVICES\"]=\"7\""
   ]
  },
  {
   "cell_type": "code",
   "execution_count": 2,
   "metadata": {},
   "outputs": [],
   "source": [
    "import torch\n",
    "from torch import nn\n",
    "from torchvision import models, transforms\n",
    "from PIL import Image\n",
    "import matplotlib.pyplot as plt\n",
    "import numpy as np\n",
    "import nibabel as nib\n",
    "from torch.utils.data import Dataset, DataLoader"
   ]
  },
  {
   "cell_type": "code",
   "execution_count": 3,
   "metadata": {},
   "outputs": [],
   "source": [
    "label_datat=np.loadtxt('/home/sumins/workspace/washout classification/min_slice/label_test.txt',dtype=int)\n",
    "label_datat=label_datat.tolist()\n",
    "data_patht='/home/sumins/workspace/washout classification/min_slice/channel4_test.nii'\n",
    "channel4t=[]\n",
    "totalt=nib.load(data_patht).get_fdata()\n",
    "totalslicet=totalt.shape[0]  \n",
    "\n",
    "for i in range(0,totalslicet):\n",
    "    channel4t.append(totalt[i,:,:,:])"
   ]
  },
  {
   "cell_type": "code",
   "execution_count": 4,
   "metadata": {},
   "outputs": [
    {
     "data": {
      "text/plain": [
       "(512, 512, 4)"
      ]
     },
     "execution_count": 4,
     "metadata": {},
     "output_type": "execute_result"
    }
   ],
   "source": [
    "channel4t[0].shape"
   ]
  },
  {
   "cell_type": "code",
   "execution_count": 5,
   "metadata": {},
   "outputs": [],
   "source": [
    "WINDOW_MAX = 200\n",
    "WINDOW_MIN = 0\n",
    "GLOBAL_PIXEL_MEAN = 0.1\n",
    "\n",
    "class CustomDataset(Dataset): \n",
    "  def __init__(self,volume_list,all_labels,transforms=None):\n",
    "    self.volume_list=volume_list\n",
    "    self.all_labels=all_labels\n",
    "    self.length=len(all_labels)\n",
    "    self.transforms=transforms\n",
    "\n",
    "\n",
    "  def __len__(self):\n",
    "    return self.length\n",
    "\n",
    "\n",
    "  def __getitem__(self, idx):\n",
    "    npy=self.volume_list[idx]\n",
    "\n",
    "    npy[npy > WINDOW_MAX] = WINDOW_MAX\n",
    "    npy[npy < WINDOW_MIN] = WINDOW_MIN\n",
    "    \n",
    "    npy = (npy - WINDOW_MIN) / (WINDOW_MAX - WINDOW_MIN)\n",
    "    \n",
    "    \n",
    "    npy=npy.astype(dtype='float32')\n",
    "    if self.transforms is not None:\n",
    "      npy=self.transforms(npy)\n",
    "    \n",
    "    return npy"
   ]
  },
  {
   "cell_type": "code",
   "execution_count": 6,
   "metadata": {},
   "outputs": [],
   "source": [
    "\n",
    "transforms_test = transforms.Compose([transforms.ToTensor()\n",
    "                                       ])"
   ]
  },
  {
   "cell_type": "code",
   "execution_count": 7,
   "metadata": {},
   "outputs": [],
   "source": [
    "test_dataset=CustomDataset(volume_list=channel4t, all_labels=label_datat,transforms=transforms_test)"
   ]
  },
  {
   "cell_type": "code",
   "execution_count": 9,
   "metadata": {},
   "outputs": [
    {
     "data": {
      "text/plain": [
       "torch.Size([4, 512, 512])"
      ]
     },
     "execution_count": 9,
     "metadata": {},
     "output_type": "execute_result"
    }
   ],
   "source": [
    "test_dataset[0].shape"
   ]
  },
  {
   "cell_type": "code",
   "execution_count": 10,
   "metadata": {},
   "outputs": [],
   "source": [
    "class Guided_backprop():\n",
    "    def __init__(self, model):\n",
    "        self.model = model\n",
    "        self.image_reconstruction = None # store R0\n",
    "        self.activation_maps = []  # store f1, f2, ... \n",
    "        self.model.eval()\n",
    "        self.register_hooks()\n",
    "\n",
    "    def register_hooks(self):\n",
    "        def first_layer_hook_fn(module, grad_in, grad_out):\n",
    "            self.image_reconstruction = grad_in[0] \n",
    "\n",
    "        def forward_hook_fn(module, input, output):\n",
    "            self.activation_maps.append(output)\n",
    "\n",
    "        def backward_hook_fn(module, grad_in, grad_out):\n",
    "            grad = self.activation_maps.pop() \n",
    "            # for the forward pass, after the ReLU operation, \n",
    "            # if the output value is positive, we set the value to 1,\n",
    "            # and if the output value is negative, we set it to 0.\n",
    "            grad[grad > 0] = 1 \n",
    "            \n",
    "            # grad_out[0] stores the gradients for each feature map,\n",
    "            # and we only retain the positive gradients\n",
    "            positive_grad_out = torch.clamp(grad_out[0], min=0.0)\n",
    "            new_grad_in = positive_grad_out * grad\n",
    "\n",
    "            return (new_grad_in,)\n",
    "\n",
    "\n",
    "        # AlexNet model \n",
    "        modules = list(self.model.features.named_children())\n",
    "\n",
    "        # travese the modules，register forward hook & backward hook\n",
    "        # for the ReLU\n",
    "        for name, module in modules:\n",
    "            if isinstance(module, nn.ReLU):\n",
    "                module.register_forward_hook(forward_hook_fn)\n",
    "                module.register_backward_hook(backward_hook_fn)\n",
    "\n",
    "        # register backward hook for the first conv layer\n",
    "        first_layer = modules[0][1] \n",
    "        first_layer.register_backward_hook(first_layer_hook_fn)\n",
    "\n",
    "    def visualize(self, input_image, target_class):\n",
    "        model_output = self.model(input_image)\n",
    "        self.model.zero_grad()\n",
    "        pred_class = model_output.argmax().item()\n",
    "        \n",
    "        grad_target_map = torch.zeros(model_output.shape,\n",
    "                                      dtype=torch.float)\n",
    "        if target_class is not None:\n",
    "            grad_target_map[0][target_class] = 1\n",
    "        else:\n",
    "            grad_target_map[0][pred_class] = 1\n",
    "        \n",
    "        model_output.backward(grad_target_map)\n",
    "        \n",
    "        result = self.image_reconstruction.data[0].permute(1,2,0)\n",
    "        return result.numpy()\n",
    "\n",
    "\n"
   ]
  },
  {
   "cell_type": "code",
   "execution_count": 39,
   "metadata": {},
   "outputs": [
    {
     "name": "stdout",
     "output_type": "stream",
     "text": [
      "AlexNet(\n",
      "  (features): Sequential(\n",
      "    (0): Conv2d(4, 64, kernel_size=(11, 11), stride=(4, 4), padding=(2, 2))\n",
      "    (1): ReLU(inplace=True)\n",
      "    (2): MaxPool2d(kernel_size=3, stride=2, padding=0, dilation=1, ceil_mode=False)\n",
      "    (3): Conv2d(64, 192, kernel_size=(5, 5), stride=(1, 1), padding=(2, 2))\n",
      "    (4): ReLU(inplace=True)\n",
      "    (5): MaxPool2d(kernel_size=3, stride=2, padding=0, dilation=1, ceil_mode=False)\n",
      "    (6): Conv2d(192, 384, kernel_size=(3, 3), stride=(1, 1), padding=(1, 1))\n",
      "    (7): ReLU(inplace=True)\n",
      "    (8): Conv2d(384, 256, kernel_size=(3, 3), stride=(1, 1), padding=(1, 1))\n",
      "    (9): ReLU(inplace=True)\n",
      "    (10): Conv2d(256, 256, kernel_size=(3, 3), stride=(1, 1), padding=(1, 1))\n",
      "    (11): ReLU(inplace=True)\n",
      "    (12): MaxPool2d(kernel_size=3, stride=2, padding=0, dilation=1, ceil_mode=False)\n",
      "  )\n",
      "  (avgpool): AdaptiveAvgPool2d(output_size=(6, 6))\n",
      "  (classifier): Sequential(\n",
      "    (0): Dropout(p=0.5, inplace=False)\n",
      "    (1): Linear(in_features=9216, out_features=4096, bias=True)\n",
      "    (2): ReLU(inplace=True)\n",
      "    (3): Dropout(p=0.5, inplace=False)\n",
      "    (4): Linear(in_features=4096, out_features=4096, bias=True)\n",
      "    (5): ReLU(inplace=True)\n",
      "    (6): Linear(in_features=4096, out_features=2, bias=True)\n",
      "  )\n",
      ")\n"
     ]
    }
   ],
   "source": [
    "import ssl\n",
    "ssl._create_default_https_context = ssl._create_unverified_context\n",
    "model=models.alexnet(pretrained=True)\n",
    "model.features[0]=nn.Conv2d(4,64,kernel_size=11,stride=4,padding=2)\n",
    "num_ftrs=model.classifier[6].in_features\n",
    "model.classifier[6]=nn.Linear(num_ftrs,2,bias=True)\n",
    "print(model)"
   ]
  },
  {
   "cell_type": "code",
   "execution_count": 48,
   "metadata": {},
   "outputs": [
    {
     "name": "stdout",
     "output_type": "stream",
     "text": [
      "AlexNet Architecture:\n",
      " ------------------------------------------------------------ \n",
      " AlexNet(\n",
      "  (features): Sequential(\n",
      "    (0): Conv2d(4, 64, kernel_size=(11, 11), stride=(4, 4), padding=(2, 2))\n",
      "    (1): ReLU(inplace=True)\n",
      "    (2): MaxPool2d(kernel_size=3, stride=2, padding=0, dilation=1, ceil_mode=False)\n",
      "    (3): Conv2d(64, 192, kernel_size=(5, 5), stride=(1, 1), padding=(2, 2))\n",
      "    (4): ReLU(inplace=True)\n",
      "    (5): MaxPool2d(kernel_size=3, stride=2, padding=0, dilation=1, ceil_mode=False)\n",
      "    (6): Conv2d(192, 384, kernel_size=(3, 3), stride=(1, 1), padding=(1, 1))\n",
      "    (7): ReLU(inplace=True)\n",
      "    (8): Conv2d(384, 256, kernel_size=(3, 3), stride=(1, 1), padding=(1, 1))\n",
      "    (9): ReLU(inplace=True)\n",
      "    (10): Conv2d(256, 256, kernel_size=(3, 3), stride=(1, 1), padding=(1, 1))\n",
      "    (11): ReLU(inplace=True)\n",
      "    (12): MaxPool2d(kernel_size=3, stride=2, padding=0, dilation=1, ceil_mode=False)\n",
      "  )\n",
      "  (avgpool): AdaptiveAvgPool2d(output_size=(6, 6))\n",
      "  (classifier): Sequential(\n",
      "    (0): Dropout(p=0.5, inplace=False)\n",
      "    (1): Linear(in_features=9216, out_features=4096, bias=True)\n",
      "    (2): ReLU(inplace=True)\n",
      "    (3): Dropout(p=0.5, inplace=False)\n",
      "    (4): Linear(in_features=4096, out_features=4096, bias=True)\n",
      "    (5): ReLU(inplace=True)\n",
      "    (6): Linear(in_features=4096, out_features=2, bias=True)\n",
      "  )\n",
      ") \n",
      " ------------------------------------------------------------\n",
      "(512, 512, 4)\n"
     ]
    },
    {
     "data": {
      "image/png": "[encoded data removed]",
      "text/plain": [
       "<Figure size 432x288 with 1 Axes>"
      ]
     },
     "metadata": {
      "needs_background": "light"
     },
     "output_type": "display_data"
    }
   ],
   "source": [
    "tensor = test_dataset[0].unsqueeze(0).requires_grad_()\n",
    "    \n",
    "print('AlexNet Architecture:\\n', '-'*60, '\\n', model, '\\n', '-'*60)\n",
    "\n",
    "guided_bp = Guided_backprop(model)\n",
    "result = guided_bp.visualize(tensor, None)\n",
    "print(result.shape)\n",
    "#result = normalize(result)\n",
    "plt.imshow(result[:,:,0],cmap='gray')\n",
    "plt.show()"
   ]
  }
 ],
 "metadata": {
  "kernelspec": {
   "display_name": "Python 3.6.9 64-bit",
   "language": "python",
   "name": "python3"
  },
  "language_info": {
   "codemirror_mode": {
    "name": "ipython",
    "version": 3
   },
   "file_extension": ".py",
   "mimetype": "text/x-python",
   "name": "python",
   "nbconvert_exporter": "python",
   "pygments_lexer": "ipython3",
   "version": "3.6.9"
  },
  "orig_nbformat": 4,
  "vscode": {
   "interpreter": {
    "hash": "31f2aee4e71d21fbe5cf8b01ff0e069b9275f58929596ceb00d14d90e3e16cd6"
   }
  }
 },
 "nbformat": 4,
 "nbformat_minor": 2
}
