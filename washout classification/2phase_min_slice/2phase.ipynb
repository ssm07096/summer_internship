{
 "cells": [
  {
   "cell_type": "code",
   "execution_count": 2,
   "metadata": {},
   "outputs": [],
   "source": [
    "import os\n"
   ]
  },
  {
   "cell_type": "code",
   "execution_count": 2,
   "metadata": {},
   "outputs": [],
   "source": [
    "import numpy as np\n",
    "from matplotlib import pyplot as plt\n",
    "import nibabel as nib\n",
    "from PIL import Image\n",
    "from matplotlib import pyplot as plt\n",
    "import torch\n",
    "from torch.utils.data import Dataset, DataLoader\n",
    "from sklearn.model_selection import train_test_split\n",
    "from torch import nn\n",
    "import torchsummary\n",
    "from torchvision import transforms\n",
    "import time\n",
    "from sklearn.metrics import classification_report"
   ]
  },
  {
   "cell_type": "code",
   "execution_count": 3,
   "metadata": {},
   "outputs": [],
   "source": [
    "match_folder=np.loadtxt('/home/sumins/workspace/washout classification/base_data/condition_match_folder.txt',dtype=str)\n",
    "match_folder=match_folder.tolist()"
   ]
  },
  {
   "cell_type": "code",
   "execution_count": 4,
   "metadata": {},
   "outputs": [
    {
     "data": {
      "text/plain": [
       "165"
      ]
     },
     "execution_count": 4,
     "metadata": {},
     "output_type": "execute_result"
    }
   ],
   "source": [
    "len(match_folder)"
   ]
  },
  {
   "cell_type": "code",
   "execution_count": 5,
   "metadata": {},
   "outputs": [],
   "source": [
    "import ast\n",
    "range_path='/home/sumins/workspace/washout classification/base_data/liverrange.txt'\n",
    "range_value_path='/home/sumins/workspace/washout classification/base_data/liverrange_value.txt'\n",
    "\n",
    "liverrange=[]\n",
    "liverrange_value=[]\n",
    "with open (range_path,'r') as f:\n",
    "    lines=f.readlines()\n",
    "    for line in lines:\n",
    "        line=line.strip()\n",
    "        liverrange.append(ast.literal_eval(line))\n",
    "\n",
    "with open (range_value_path,'r') as f:\n",
    "    lines=f.readlines()\n",
    "    for line in lines:\n",
    "        line=line.strip()\n",
    "        liverrange_value.append(ast.literal_eval(line))"
   ]
  },
  {
   "cell_type": "code",
   "execution_count": 6,
   "metadata": {},
   "outputs": [],
   "source": [
    "same=0\n",
    "diff=0\n",
    "diff_index=[]\n",
    "for index, i in enumerate(liverrange_value):\n",
    "    if i[1]==i[2]:\n",
    "        same+=1\n",
    "    else:\n",
    "        diff+=1\n",
    "        diff_index.append(index)\n",
    "        "
   ]
  },
  {
   "cell_type": "code",
   "execution_count": 7,
   "metadata": {},
   "outputs": [
    {
     "name": "stdout",
     "output_type": "stream",
     "text": [
      "same  158\n",
      "diff  7\n"
     ]
    }
   ],
   "source": [
    "print(\"same \",same)\n",
    "print(\"diff \", diff)"
   ]
  },
  {
   "cell_type": "code",
   "execution_count": 8,
   "metadata": {},
   "outputs": [
    {
     "data": {
      "text/plain": [
       "[10, 14, 16, 17, 27, 80, 144]"
      ]
     },
     "execution_count": 8,
     "metadata": {},
     "output_type": "execute_result"
    }
   ],
   "source": [
    "diff_index"
   ]
  },
  {
   "cell_type": "code",
   "execution_count": 10,
   "metadata": {},
   "outputs": [],
   "source": [
    "def findnear(mylist,num):\n",
    "    near_value_plus=0\n",
    "    near_value_minus=0\n",
    "    near_value=0\n",
    "    for i in mylist:\n",
    "        if i <=num:\n",
    "            near_value_minus=i\n",
    "        if i>=num:\n",
    "            near_value_plus=i\n",
    "            break\n",
    "    if (num-near_value_minus)<=(near_value_plus-num):\n",
    "        near_value=near_value_minus\n",
    "    else:\n",
    "        near_value=near_value_plus\n",
    "    return near_value\n",
    "        \n",
    "a_data=[]\n",
    "p_data=[]\n",
    "\n",
    "for i,k in enumerate(liverrange_value):\n",
    "    a=[]\n",
    "    p=[]\n",
    "    a_new=[]\n",
    "    p_new=[]\n",
    "    liver=[]\n",
    "    if k[0]==k[1]==k[2]==k[3]:\n",
    "        for num in range(k[0]):\n",
    "\n",
    "            a_new.append(liverrange[i][2]+num)\n",
    "            p_new.append(liverrange[i][4]+num)\n",
    "\n",
    "    else:\n",
    "        if liverrange_value[1]>liverrange_value[2]:\n",
    "            min_phase=2\n",
    "        else:\n",
    "            min_phase=1\n",
    "        myrange=liverrange[i][:]\n",
    "        for j in range(liverrange_value[i][1]):\n",
    "            a.append((j)/(liverrange_value[i][1]))\n",
    "        for j in range(liverrange_value[i][2]):\n",
    "            p.append((j)/(liverrange_value[i][2]))\n",
    "        liver.append(a)\n",
    "        liver.append(p)\n",
    "\n",
    "        \n",
    "        for q in liver[min_phase]:\n",
    "            a_new.append(findnear(a,q))\n",
    "            p_new.append(findnear(p,q))\n",
    "\n",
    "        \n",
    "\n",
    "        for w in range(len(a_new)):\n",
    "            a_new[w]=int(a_new[w]*(liverrange_value[i][1])+myrange[2])\n",
    "            p_new[w]=int(p_new[w]*(liverrange_value[i][2])+myrange[4])\n",
    " \n",
    "            \n",
    "    a_data.append(a_new)\n",
    "    p_data.append(p_new)\n"
   ]
  },
  {
   "cell_type": "code",
   "execution_count": 11,
   "metadata": {},
   "outputs": [],
   "source": [
    "\n",
    "savepath2='/home/sumins/workspace/washout classification/2phase_slice/arterial.txt'\n",
    "savepath3='/home/sumins/workspace/washout classification/2phase_slice/portal.txt'\n",
    "\n",
    "with open (savepath2,'w+') as f:\n",
    "    for i in a_data:\n",
    "        f.write(str(i)+'\\n')\n",
    "with open (savepath3,'w+') as f:\n",
    "    for i in p_data:\n",
    "        f.write(str(i)+'\\n')\n"
   ]
  }
 ],
 "metadata": {
  "kernelspec": {
   "display_name": "Python 3.6.9 64-bit",
   "language": "python",
   "name": "python3"
  },
  "language_info": {
   "codemirror_mode": {
    "name": "ipython",
    "version": 3
   },
   "file_extension": ".py",
   "mimetype": "text/x-python",
   "name": "python",
   "nbconvert_exporter": "python",
   "pygments_lexer": "ipython3",
   "version": "3.6.9"
  },
  "orig_nbformat": 4,
  "vscode": {
   "interpreter": {
    "hash": "31f2aee4e71d21fbe5cf8b01ff0e069b9275f58929596ceb00d14d90e3e16cd6"
   }
  }
 },
 "nbformat": 4,
 "nbformat_minor": 2
}
