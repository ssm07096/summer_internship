{
 "cells": [
  {
   "cell_type": "code",
   "execution_count": 1,
   "metadata": {},
   "outputs": [
    {
     "name": "stdout",
     "output_type": "stream",
     "text": [
      "['segmentation-0', 'segmentation-1', 'segmentation-10', 'segmentation-100', 'segmentation-101', 'segmentation-102', 'segmentation-103', 'segmentation-104', 'segmentation-105', 'segmentation-106', 'segmentation-107', 'segmentation-108', 'segmentation-109', 'segmentation-11', 'segmentation-110', 'segmentation-111', 'segmentation-112', 'segmentation-113', 'segmentation-114', 'segmentation-115', 'segmentation-116', 'segmentation-117', 'segmentation-118', 'segmentation-119', 'segmentation-12', 'segmentation-120', 'segmentation-121', 'segmentation-122', 'segmentation-123', 'segmentation-124', 'segmentation-125', 'segmentation-126', 'segmentation-127', 'segmentation-128', 'segmentation-129', 'segmentation-13', 'segmentation-14', 'segmentation-15', 'segmentation-16', 'segmentation-17', 'segmentation-18', 'segmentation-19', 'segmentation-2', 'segmentation-20', 'segmentation-21', 'segmentation-22', 'segmentation-23', 'segmentation-24', 'segmentation-25', 'segmentation-26', 'segmentation-27', 'segmentation-28', 'segmentation-29', 'segmentation-3', 'segmentation-30', 'segmentation-31', 'segmentation-32', 'segmentation-33', 'segmentation-34', 'segmentation-35', 'segmentation-36', 'segmentation-37', 'segmentation-38', 'segmentation-39', 'segmentation-4', 'segmentation-40', 'segmentation-41', 'segmentation-42', 'segmentation-43', 'segmentation-44', 'segmentation-45', 'segmentation-46', 'segmentation-47', 'segmentation-48', 'segmentation-49', 'segmentation-5', 'segmentation-50', 'segmentation-51', 'segmentation-52', 'segmentation-53', 'segmentation-54', 'segmentation-55', 'segmentation-56', 'segmentation-57', 'segmentation-58', 'segmentation-59', 'segmentation-6', 'segmentation-60', 'segmentation-61', 'segmentation-62', 'segmentation-63', 'segmentation-64', 'segmentation-65', 'segmentation-66', 'segmentation-67', 'segmentation-68', 'segmentation-69', 'segmentation-7', 'segmentation-70', 'segmentation-71', 'segmentation-72', 'segmentation-73', 'segmentation-74', 'segmentation-75', 'segmentation-76', 'segmentation-77', 'segmentation-78', 'segmentation-79', 'segmentation-8', 'segmentation-80', 'segmentation-81', 'segmentation-82', 'segmentation-83', 'segmentation-84', 'segmentation-85', 'segmentation-86', 'segmentation-87', 'segmentation-88', 'segmentation-89', 'segmentation-9', 'segmentation-90', 'segmentation-91', 'segmentation-92', 'segmentation-93', 'segmentation-94', 'segmentation-95', 'segmentation-96', 'segmentation-97', 'segmentation-98', 'segmentation-99', 'volume-0', 'volume-1', 'volume-10', 'volume-100', 'volume-101', 'volume-102', 'volume-103', 'volume-104', 'volume-105', 'volume-106', 'volume-107', 'volume-108', 'volume-109', 'volume-11', 'volume-110', 'volume-111', 'volume-112', 'volume-113', 'volume-114', 'volume-115', 'volume-116', 'volume-117', 'volume-118', 'volume-119', 'volume-12', 'volume-120', 'volume-121', 'volume-122', 'volume-123', 'volume-124', 'volume-125', 'volume-126', 'volume-127', 'volume-128', 'volume-129', 'volume-13', 'volume-14', 'volume-15', 'volume-16', 'volume-17', 'volume-18', 'volume-19', 'volume-2', 'volume-20', 'volume-21', 'volume-22', 'volume-23', 'volume-24', 'volume-25', 'volume-26', 'volume-27', 'volume-28', 'volume-29', 'volume-3', 'volume-30', 'volume-31', 'volume-32', 'volume-33', 'volume-34', 'volume-35', 'volume-36', 'volume-37', 'volume-38', 'volume-39', 'volume-4', 'volume-40', 'volume-41', 'volume-42', 'volume-43', 'volume-44', 'volume-45', 'volume-46', 'volume-47', 'volume-48', 'volume-49', 'volume-5', 'volume-50', 'volume-51', 'volume-52', 'volume-53', 'volume-54', 'volume-55', 'volume-56', 'volume-57', 'volume-58', 'volume-59', 'volume-6', 'volume-60', 'volume-61', 'volume-62', 'volume-63', 'volume-64', 'volume-65', 'volume-66', 'volume-67', 'volume-68', 'volume-69', 'volume-7', 'volume-70', 'volume-71', 'volume-72', 'volume-73', 'volume-74', 'volume-75', 'volume-76', 'volume-77', 'volume-78', 'volume-79', 'volume-8', 'volume-80', 'volume-81', 'volume-82', 'volume-83', 'volume-84', 'volume-85', 'volume-86', 'volume-87', 'volume-88', 'volume-89', 'volume-9', 'volume-90', 'volume-91', 'volume-92', 'volume-93', 'volume-94', 'volume-95', 'volume-96', 'volume-97', 'volume-98', 'volume-99']\n"
     ]
    }
   ],
   "source": [
    "\n",
    "\n",
    "import numpy as np\n",
    "import os\n",
    "from matplotlib import pyplot as plt\n",
    "import nibabel as nib\n",
    "from PIL import Image\n",
    "import matplotlib as plt\n",
    "import imageio\n",
    "\n",
    "\n",
    "data_path='/disk1/data_liverbound_noclip/'\n",
    "name_list=os.listdir(data_path)\n",
    "segmentation_data = [files[:-4] for files in name_list if files.startswith('segmentation')]\n",
    "segmentation_data=list(set(segmentation_data))\n",
    "segmentation_data.sort()\n",
    "\n",
    "volume_data=[files[:-4] for files in name_list if files.startswith('volume')]\n",
    "volume_data=list(set(volume_data))\n",
    "volume_data.sort()\n",
    "print(segmentation_data)\n",
    "\n",
    "\n",
    "save_png_path='/home/sumins/workspace/example/save_png/'\n",
    "save_volume_path='/home/sumins/workspace/example/save_png/vol_png/'"
   ]
  },
  {
   "cell_type": "code",
   "execution_count": null,
   "metadata": {},
   "outputs": [],
   "source": []
  },
  {
   "cell_type": "code",
   "execution_count": 2,
   "metadata": {},
   "outputs": [
    {
     "name": "stderr",
     "output_type": "stream",
     "text": [
      "Lossy conversion from int16 to uint8. Range [0, 1]. Convert image to uint8 prior to saving to suppress this warning.\n",
      "Lossy conversion from int16 to uint8. Range [0, 2]. Convert image to uint8 prior to saving to suppress this warning.\n",
      "Lossy conversion from int16 to uint8. Range [0, 1]. Convert image to uint8 prior to saving to suppress this warning.\n",
      "Lossy conversion from int16 to uint8. Range [0, 1]. Convert image to uint8 prior to saving to suppress this warning.\n",
      "Lossy conversion from int16 to uint8. Range [0, 1]. Convert image to uint8 prior to saving to suppress this warning.\n",
      "Lossy conversion from int16 to uint8. Range [0, 1]. Convert image to uint8 prior to saving to suppress this warning.\n"
     ]
    },
    {
     "name": "stdout",
     "output_type": "stream",
     "text": [
      "segmentation-0\n",
      "img_num: (512, 512, 29)\n",
      "29\n"
     ]
    },
    {
     "name": "stderr",
     "output_type": "stream",
     "text": [
      "Lossy conversion from int16 to uint8. Range [0, 1]. Convert image to uint8 prior to saving to suppress this warning.\n",
      "Lossy conversion from int16 to uint8. Range [0, 1]. Convert image to uint8 prior to saving to suppress this warning.\n",
      "Lossy conversion from int16 to uint8. Range [0, 1]. Convert image to uint8 prior to saving to suppress this warning.\n",
      "Lossy conversion from int16 to uint8. Range [0, 1]. Convert image to uint8 prior to saving to suppress this warning.\n",
      "Lossy conversion from int16 to uint8. Range [0, 1]. Convert image to uint8 prior to saving to suppress this warning.\n",
      "Lossy conversion from int16 to uint8. Range [0, 2]. Convert image to uint8 prior to saving to suppress this warning.\n",
      "Lossy conversion from int16 to uint8. Range [0, 2]. Convert image to uint8 prior to saving to suppress this warning.\n",
      "Lossy conversion from int16 to uint8. Range [0, 2]. Convert image to uint8 prior to saving to suppress this warning.\n",
      "Lossy conversion from int16 to uint8. Range [0, 2]. Convert image to uint8 prior to saving to suppress this warning.\n",
      "Lossy conversion from int16 to uint8. Range [0, 2]. Convert image to uint8 prior to saving to suppress this warning.\n",
      "Lossy conversion from int16 to uint8. Range [0, 2]. Convert image to uint8 prior to saving to suppress this warning.\n",
      "Lossy conversion from int16 to uint8. Range [0, 2]. Convert image to uint8 prior to saving to suppress this warning.\n",
      "Lossy conversion from int16 to uint8. Range [0, 1]. Convert image to uint8 prior to saving to suppress this warning.\n",
      "Lossy conversion from int16 to uint8. Range [0, 1]. Convert image to uint8 prior to saving to suppress this warning.\n",
      "Lossy conversion from int16 to uint8. Range [0, 2]. Convert image to uint8 prior to saving to suppress this warning.\n",
      "Lossy conversion from int16 to uint8. Range [0, 2]. Convert image to uint8 prior to saving to suppress this warning.\n",
      "Lossy conversion from int16 to uint8. Range [0, 2]. Convert image to uint8 prior to saving to suppress this warning.\n",
      "Lossy conversion from int16 to uint8. Range [0, 2]. Convert image to uint8 prior to saving to suppress this warning.\n",
      "Lossy conversion from int16 to uint8. Range [0, 2]. Convert image to uint8 prior to saving to suppress this warning.\n",
      "Lossy conversion from int16 to uint8. Range [0, 2]. Convert image to uint8 prior to saving to suppress this warning.\n",
      "Lossy conversion from int16 to uint8. Range [0, 2]. Convert image to uint8 prior to saving to suppress this warning.\n"
     ]
    },
    {
     "name": "stdout",
     "output_type": "stream",
     "text": [
      "segmentation-0 done\n",
      "segmentation-1\n",
      "img_num: (512, 512, 32)\n",
      "32\n",
      "segmentation-1 done\n",
      "segmentation-10\n",
      "img_num: (512, 512, 216)\n",
      "216\n",
      "segmentation-10 done\n",
      "segmentation-100\n",
      "img_num: (512, 512, 322)\n",
      "322\n"
     ]
    },
    {
     "ename": "KeyboardInterrupt",
     "evalue": "",
     "output_type": "error",
     "traceback": [
      "\u001b[0;31m---------------------------------------------------------------------------\u001b[0m",
      "\u001b[0;31mAttributeError\u001b[0m                            Traceback (most recent call last)",
      "File \u001b[0;32m~/miniconda3/envs/sumin/lib/python3.8/site-packages/PIL/ImageFile.py:495\u001b[0m, in \u001b[0;36m_save\u001b[0;34m(im, fp, tile, bufsize)\u001b[0m\n\u001b[1;32m    494\u001b[0m \u001b[39mtry\u001b[39;00m:\n\u001b[0;32m--> 495\u001b[0m     fh \u001b[39m=\u001b[39m fp\u001b[39m.\u001b[39;49mfileno()\n\u001b[1;32m    496\u001b[0m     fp\u001b[39m.\u001b[39mflush()\n",
      "\u001b[0;31mAttributeError\u001b[0m: '_idat' object has no attribute 'fileno'",
      "\nDuring handling of the above exception, another exception occurred:\n",
      "\u001b[0;31mKeyboardInterrupt\u001b[0m                         Traceback (most recent call last)",
      "\u001b[1;32m/home/sumins/workspace/example/npy to png.ipynb 셀 2\u001b[0m in \u001b[0;36m<cell line: 1>\u001b[0;34m()\u001b[0m\n\u001b[1;32m     <a href='vscode-notebook-cell://ssh-remote%2B161.122.53.27/home/sumins/workspace/example/npy%20to%20png.ipynb#ch0000001vscode-remote?line=17'>18</a>\u001b[0m     os\u001b[39m.\u001b[39mmakedirs(save_png_path\u001b[39m+\u001b[39mfname)\n\u001b[1;32m     <a href='vscode-notebook-cell://ssh-remote%2B161.122.53.27/home/sumins/workspace/example/npy%20to%20png.ipynb#ch0000001vscode-remote?line=18'>19</a>\u001b[0m     \u001b[39mprint\u001b[39m(\u001b[39m\"\u001b[39m\u001b[39mCreated ouput directory: \u001b[39m\u001b[39m\"\u001b[39m \u001b[39m+\u001b[39m save_png_path\u001b[39m+\u001b[39mfname)\n\u001b[0;32m---> <a href='vscode-notebook-cell://ssh-remote%2B161.122.53.27/home/sumins/workspace/example/npy%20to%20png.ipynb#ch0000001vscode-remote?line=19'>20</a>\u001b[0m imageio\u001b[39m.\u001b[39;49mimwrite(save_png_path\u001b[39m+\u001b[39;49mfname\u001b[39m+\u001b[39;49m\u001b[39m'\u001b[39;49m\u001b[39m/\u001b[39;49m\u001b[39m'\u001b[39;49m\u001b[39m+\u001b[39;49mimage_name, data)\n\u001b[1;32m     <a href='vscode-notebook-cell://ssh-remote%2B161.122.53.27/home/sumins/workspace/example/npy%20to%20png.ipynb#ch0000001vscode-remote?line=20'>21</a>\u001b[0m \u001b[39m#print('Saved.')\u001b[39;00m\n\u001b[1;32m     <a href='vscode-notebook-cell://ssh-remote%2B161.122.53.27/home/sumins/workspace/example/npy%20to%20png.ipynb#ch0000001vscode-remote?line=21'>22</a>\u001b[0m \u001b[39m#move images to folder\u001b[39;00m\n\u001b[1;32m     <a href='vscode-notebook-cell://ssh-remote%2B161.122.53.27/home/sumins/workspace/example/npy%20to%20png.ipynb#ch0000001vscode-remote?line=22'>23</a>\u001b[0m \u001b[39m#print('Moving image...')\u001b[39;00m\n\u001b[1;32m     <a href='vscode-notebook-cell://ssh-remote%2B161.122.53.27/home/sumins/workspace/example/npy%20to%20png.ipynb#ch0000001vscode-remote?line=23'>24</a>\u001b[0m src \u001b[39m=\u001b[39m image_name\n",
      "File \u001b[0;32m~/miniconda3/envs/sumin/lib/python3.8/site-packages/imageio/core/functions.py:305\u001b[0m, in \u001b[0;36mimwrite\u001b[0;34m(uri, im, format, **kwargs)\u001b[0m\n\u001b[1;32m    303\u001b[0m writer \u001b[39m=\u001b[39m get_writer(uri, \u001b[39mformat\u001b[39m, \u001b[39m\"\u001b[39m\u001b[39mi\u001b[39m\u001b[39m\"\u001b[39m, \u001b[39m*\u001b[39m\u001b[39m*\u001b[39mkwargs)\n\u001b[1;32m    304\u001b[0m \u001b[39mwith\u001b[39;00m writer:\n\u001b[0;32m--> 305\u001b[0m     writer\u001b[39m.\u001b[39;49mappend_data(im)\n\u001b[1;32m    307\u001b[0m \u001b[39m# Return a result if there is any\u001b[39;00m\n\u001b[1;32m    308\u001b[0m \u001b[39mreturn\u001b[39;00m writer\u001b[39m.\u001b[39mrequest\u001b[39m.\u001b[39mget_result()\n",
      "File \u001b[0;32m~/miniconda3/envs/sumin/lib/python3.8/site-packages/imageio/core/format.py:502\u001b[0m, in \u001b[0;36mFormat.Writer.append_data\u001b[0;34m(self, im, meta)\u001b[0m\n\u001b[1;32m    500\u001b[0m im \u001b[39m=\u001b[39m asarray(im)\n\u001b[1;32m    501\u001b[0m \u001b[39m# Call\u001b[39;00m\n\u001b[0;32m--> 502\u001b[0m \u001b[39mreturn\u001b[39;00m \u001b[39mself\u001b[39;49m\u001b[39m.\u001b[39;49m_append_data(im, total_meta)\n",
      "File \u001b[0;32m~/miniconda3/envs/sumin/lib/python3.8/site-packages/imageio/plugins/pillow.py:364\u001b[0m, in \u001b[0;36mPNGFormat.Writer._append_data\u001b[0;34m(self, im, meta)\u001b[0m\n\u001b[1;32m    362\u001b[0m \u001b[39melse\u001b[39;00m:\n\u001b[1;32m    363\u001b[0m     im \u001b[39m=\u001b[39m image_as_uint(im, bitdepth\u001b[39m=\u001b[39m\u001b[39m8\u001b[39m)\n\u001b[0;32m--> 364\u001b[0m PillowFormat\u001b[39m.\u001b[39;49mWriter\u001b[39m.\u001b[39;49m_append_data(\u001b[39mself\u001b[39;49m, im, meta)\n",
      "File \u001b[0;32m~/miniconda3/envs/sumin/lib/python3.8/site-packages/imageio/plugins/pillow.py:217\u001b[0m, in \u001b[0;36mPillowFormat.Writer._append_data\u001b[0;34m(self, im, meta)\u001b[0m\n\u001b[1;32m    215\u001b[0m \u001b[39mif\u001b[39;00m \u001b[39m\"\u001b[39m\u001b[39mbits\u001b[39m\u001b[39m\"\u001b[39m \u001b[39min\u001b[39;00m \u001b[39mself\u001b[39m\u001b[39m.\u001b[39m_meta:\n\u001b[1;32m    216\u001b[0m     img \u001b[39m=\u001b[39m img\u001b[39m.\u001b[39mquantize()  \u001b[39m# Make it a P image, so bits arg is used\u001b[39;00m\n\u001b[0;32m--> 217\u001b[0m img\u001b[39m.\u001b[39;49msave(\u001b[39mself\u001b[39;49m\u001b[39m.\u001b[39;49m_fp, \u001b[39mformat\u001b[39;49m\u001b[39m=\u001b[39;49m\u001b[39mself\u001b[39;49m\u001b[39m.\u001b[39;49mformat\u001b[39m.\u001b[39;49mplugin_id, \u001b[39m*\u001b[39;49m\u001b[39m*\u001b[39;49m\u001b[39mself\u001b[39;49m\u001b[39m.\u001b[39;49m_meta)\n\u001b[1;32m    218\u001b[0m save_pillow_close(img)\n",
      "File \u001b[0;32m~/miniconda3/envs/sumin/lib/python3.8/site-packages/PIL/Image.py:2212\u001b[0m, in \u001b[0;36mImage.save\u001b[0;34m(self, fp, format, **params)\u001b[0m\n\u001b[1;32m   2209\u001b[0m         fp \u001b[39m=\u001b[39m builtins\u001b[39m.\u001b[39mopen(filename, \u001b[39m\"\u001b[39m\u001b[39mw+b\u001b[39m\u001b[39m\"\u001b[39m)\n\u001b[1;32m   2211\u001b[0m \u001b[39mtry\u001b[39;00m:\n\u001b[0;32m-> 2212\u001b[0m     save_handler(\u001b[39mself\u001b[39;49m, fp, filename)\n\u001b[1;32m   2213\u001b[0m \u001b[39mfinally\u001b[39;00m:\n\u001b[1;32m   2214\u001b[0m     \u001b[39m# do what we can to clean up\u001b[39;00m\n\u001b[1;32m   2215\u001b[0m     \u001b[39mif\u001b[39;00m open_fp:\n",
      "File \u001b[0;32m~/miniconda3/envs/sumin/lib/python3.8/site-packages/PIL/PngImagePlugin.py:1348\u001b[0m, in \u001b[0;36m_save\u001b[0;34m(im, fp, filename, chunk, save_all)\u001b[0m\n\u001b[1;32m   1346\u001b[0m     _write_multiple_frames(im, fp, chunk, rawmode)\n\u001b[1;32m   1347\u001b[0m \u001b[39melse\u001b[39;00m:\n\u001b[0;32m-> 1348\u001b[0m     ImageFile\u001b[39m.\u001b[39;49m_save(im, _idat(fp, chunk), [(\u001b[39m\"\u001b[39;49m\u001b[39mzip\u001b[39;49m\u001b[39m\"\u001b[39;49m, (\u001b[39m0\u001b[39;49m, \u001b[39m0\u001b[39;49m) \u001b[39m+\u001b[39;49m im\u001b[39m.\u001b[39;49msize, \u001b[39m0\u001b[39;49m, rawmode)])\n\u001b[1;32m   1350\u001b[0m \u001b[39mif\u001b[39;00m info:\n\u001b[1;32m   1351\u001b[0m     \u001b[39mfor\u001b[39;00m info_chunk \u001b[39min\u001b[39;00m info\u001b[39m.\u001b[39mchunks:\n",
      "File \u001b[0;32m~/miniconda3/envs/sumin/lib/python3.8/site-packages/PIL/ImageFile.py:509\u001b[0m, in \u001b[0;36m_save\u001b[0;34m(im, fp, tile, bufsize)\u001b[0m\n\u001b[1;32m    507\u001b[0m \u001b[39melse\u001b[39;00m:\n\u001b[1;32m    508\u001b[0m     \u001b[39mwhile\u001b[39;00m \u001b[39mTrue\u001b[39;00m:\n\u001b[0;32m--> 509\u001b[0m         l, s, d \u001b[39m=\u001b[39m e\u001b[39m.\u001b[39;49mencode(bufsize)\n\u001b[1;32m    510\u001b[0m         fp\u001b[39m.\u001b[39mwrite(d)\n\u001b[1;32m    511\u001b[0m         \u001b[39mif\u001b[39;00m s:\n",
      "\u001b[0;31mKeyboardInterrupt\u001b[0m: "
     ]
    }
   ],
   "source": [
    "for file in segmentation_data:\n",
    "    fname=os.path.basename(file)\n",
    "    print(fname)\n",
    "    img_array=np.load(data_path+fname+'.npy')\n",
    "\n",
    "    if len(img_array.shape) == 3:\n",
    "        nx, ny, nz = img_array.shape\n",
    "        total_slices = img_array.shape[2]\n",
    "        print(total_slices)\n",
    "\n",
    "        for current_slice in range(0, total_slices):\n",
    "            data=img_array[:,:,current_slice]\n",
    "\n",
    "            image_name = fname[:] + \"_z\" + \"{:0>3}\".format(str(current_slice+1))+ \".png\"\n",
    "            if not os.path.exists(save_png_path+fname):\n",
    "                os.makedirs(save_png_path+fname)\n",
    "                print(\"Created ouput directory: \" + save_png_path+fname)\n",
    "            imageio.imwrite(save_png_path+fname+'/'+image_name, data)\n",
    "            src = image_name\n",
    "\n",
    "            if current_slice==(total_slices-1):\n",
    "                print(fname+ \" done\")\n",
    "        "
   ]
  },
  {
   "cell_type": "code",
   "execution_count": null,
   "metadata": {},
   "outputs": [],
   "source": [
    "for file in volume_data:\n",
    "    fname=os.path.basename(file)\n",
    "    print(fname)\n",
    "    img_array=np.load(data_path+fname+'.npy')\n",
    "    \n",
    "    \n",
    "    if len(img_array.shape) == 3:\n",
    "        nx, ny, nz = img_array.shape\n",
    "        total_slices = img_array.shape[2]\n",
    "        print(total_slices)\n",
    "        # iterate through slices\n",
    "        for current_slice in range(0, total_slices):\n",
    "            data=img_array[:,:,current_slice]\n",
    "            #print('Saving image...')\n",
    "            image_name = fname[:] + \"_z\" + \"{:0>3}\".format(str(current_slice+1))+ \".png\"\n",
    "            if not os.path.exists(save_volume_path+fname):\n",
    "                os.makedirs(save_volume_path+fname)\n",
    "                print(\"Created ouput directory: \" + save_volume_path+fname)\n",
    "            imageio.imwrite(save_volume_path+fname+'/'+image_name, data)\n",
    "            #print('Saved.')\n",
    "            #move images to folder\n",
    "            #print('Moving image...')\n",
    "            src = image_name\n",
    "            #print('Moved.')\n",
    "            #print('Finished converting images')\n",
    "            if current_slice==(total_slices-1):\n",
    "                print(fname+ \" done\")"
   ]
  },
  {
   "cell_type": "code",
   "execution_count": null,
   "metadata": {},
   "outputs": [],
   "source": []
  },
  {
   "cell_type": "code",
   "execution_count": null,
   "metadata": {},
   "outputs": [],
   "source": []
  }
 ],
 "metadata": {
  "kernelspec": {
   "display_name": "Python 3.6.9 64-bit",
   "language": "python",
   "name": "python3"
  },
  "language_info": {
   "codemirror_mode": {
    "name": "ipython",
    "version": 3
   },
   "file_extension": ".py",
   "mimetype": "text/x-python",
   "name": "python",
   "nbconvert_exporter": "python",
   "pygments_lexer": "ipython3",
   "version": "3.6.9"
  },
  "orig_nbformat": 4,
  "vscode": {
   "interpreter": {
    "hash": "31f2aee4e71d21fbe5cf8b01ff0e069b9275f58929596ceb00d14d90e3e16cd6"
   }
  }
 },
 "nbformat": 4,
 "nbformat_minor": 2
}
